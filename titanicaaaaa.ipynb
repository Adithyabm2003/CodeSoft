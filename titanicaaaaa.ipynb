{
 "cells": [
  {
   "cell_type": "code",
   "execution_count": 1,
   "id": "36201e72",
   "metadata": {
    "_cell_guid": "b1076dfc-b9ad-4769-8c92-a6c4dae69d19",
    "_uuid": "8f2839f25d086af736a60e9eeb907d3b93b6e0e5",
    "execution": {
     "iopub.execute_input": "2023-08-07T17:13:11.499477Z",
     "iopub.status.busy": "2023-08-07T17:13:11.498985Z",
     "iopub.status.idle": "2023-08-07T17:13:11.515853Z",
     "shell.execute_reply": "2023-08-07T17:13:11.513857Z"
    },
    "papermill": {
     "duration": 0.033252,
     "end_time": "2023-08-07T17:13:11.518093",
     "exception": false,
     "start_time": "2023-08-07T17:13:11.484841",
     "status": "completed"
    },
    "tags": []
   },
   "outputs": [
    {
     "name": "stdout",
     "output_type": "stream",
     "text": [
      "/kaggle/input/titanic/train.csv\n",
      "/kaggle/input/titanic/test.csv\n",
      "/kaggle/input/titanic/gender_submission.csv\n"
     ]
    }
   ],
   "source": [
    "# This Python 3 environment comes with many helpful analytics libraries installed\n",
    "# It is defined by the kaggle/python Docker image: https://github.com/kaggle/docker-python\n",
    "# For example, here's several helpful packages to load\n",
    "\n",
    "import numpy as np # linear algebra\n",
    "import pandas as pd # data processing, CSV file I/O (e.g. pd.read_csv)\n",
    "\n",
    "# Input data files are available in the read-only \"../input/\" directory\n",
    "# For example, running this (by clicking run or pressing Shift+Enter) will list all files under the input directory\n",
    "\n",
    "import os\n",
    "for dirname, _, filenames in os.walk('/kaggle/input'):\n",
    "    for filename in filenames:\n",
    "        print(os.path.join(dirname, filename))\n",
    "\n",
    "# You can write up to 20GB to the current directory (/kaggle/working/) that gets preserved as output when you create a version using \"Save & Run All\" \n",
    "# You can also write temporary files to /kaggle/temp/, but they won't be saved outside of the current session"
   ]
  },
  {
   "cell_type": "markdown",
   "id": "0952b6dd",
   "metadata": {
    "papermill": {
     "duration": 0.012188,
     "end_time": "2023-08-07T17:13:11.542196",
     "exception": false,
     "start_time": "2023-08-07T17:13:11.530008",
     "status": "completed"
    },
    "tags": []
   },
   "source": [
    "## Import modules\n"
   ]
  },
  {
   "cell_type": "code",
   "execution_count": 2,
   "id": "ef349acf",
   "metadata": {
    "execution": {
     "iopub.execute_input": "2023-08-07T17:13:11.567312Z",
     "iopub.status.busy": "2023-08-07T17:13:11.566963Z",
     "iopub.status.idle": "2023-08-07T17:13:13.196482Z",
     "shell.execute_reply": "2023-08-07T17:13:13.194549Z"
    },
    "papermill": {
     "duration": 1.644828,
     "end_time": "2023-08-07T17:13:13.198867",
     "exception": false,
     "start_time": "2023-08-07T17:13:11.554039",
     "status": "completed"
    },
    "tags": []
   },
   "outputs": [
    {
     "name": "stderr",
     "output_type": "stream",
     "text": [
      "/opt/conda/lib/python3.10/site-packages/scipy/__init__.py:146: UserWarning: A NumPy version >=1.16.5 and <1.23.0 is required for this version of SciPy (detected version 1.23.5\n",
      "  warnings.warn(f\"A NumPy version >={np_minversion} and <{np_maxversion}\"\n"
     ]
    }
   ],
   "source": [
    "import pandas as pd\n",
    "import numpy as np\n",
    "import seaborn as sns\n",
    "import matplotlib.pyplot as plt\n",
    "import warnings \n",
    "warnings.filterwarnings('ignore')\n",
    "%matplotlib inline"
   ]
  },
  {
   "cell_type": "markdown",
   "id": "6f5dc161",
   "metadata": {
    "papermill": {
     "duration": 0.011579,
     "end_time": "2023-08-07T17:13:13.223272",
     "exception": false,
     "start_time": "2023-08-07T17:13:13.211693",
     "status": "completed"
    },
    "tags": []
   },
   "source": [
    "## loading the dataset"
   ]
  },
  {
   "cell_type": "code",
   "execution_count": 3,
   "id": "935b2145",
   "metadata": {
    "execution": {
     "iopub.execute_input": "2023-08-07T17:13:13.249200Z",
     "iopub.status.busy": "2023-08-07T17:13:13.248475Z",
     "iopub.status.idle": "2023-08-07T17:13:13.304182Z",
     "shell.execute_reply": "2023-08-07T17:13:13.302154Z"
    },
    "papermill": {
     "duration": 0.071735,
     "end_time": "2023-08-07T17:13:13.306826",
     "exception": false,
     "start_time": "2023-08-07T17:13:13.235091",
     "status": "completed"
    },
    "tags": []
   },
   "outputs": [
    {
     "data": {
      "text/html": [
       "<div>\n",
       "<style scoped>\n",
       "    .dataframe tbody tr th:only-of-type {\n",
       "        vertical-align: middle;\n",
       "    }\n",
       "\n",
       "    .dataframe tbody tr th {\n",
       "        vertical-align: top;\n",
       "    }\n",
       "\n",
       "    .dataframe thead th {\n",
       "        text-align: right;\n",
       "    }\n",
       "</style>\n",
       "<table border=\"1\" class=\"dataframe\">\n",
       "  <thead>\n",
       "    <tr style=\"text-align: right;\">\n",
       "      <th></th>\n",
       "      <th>PassengerId</th>\n",
       "      <th>Survived</th>\n",
       "      <th>Pclass</th>\n",
       "      <th>Name</th>\n",
       "      <th>Sex</th>\n",
       "      <th>Age</th>\n",
       "      <th>SibSp</th>\n",
       "      <th>Parch</th>\n",
       "      <th>Ticket</th>\n",
       "      <th>Fare</th>\n",
       "      <th>Cabin</th>\n",
       "      <th>Embarked</th>\n",
       "    </tr>\n",
       "  </thead>\n",
       "  <tbody>\n",
       "    <tr>\n",
       "      <th>0</th>\n",
       "      <td>1</td>\n",
       "      <td>0</td>\n",
       "      <td>3</td>\n",
       "      <td>Braund, Mr. Owen Harris</td>\n",
       "      <td>male</td>\n",
       "      <td>22.0</td>\n",
       "      <td>1</td>\n",
       "      <td>0</td>\n",
       "      <td>A/5 21171</td>\n",
       "      <td>7.2500</td>\n",
       "      <td>NaN</td>\n",
       "      <td>S</td>\n",
       "    </tr>\n",
       "    <tr>\n",
       "      <th>1</th>\n",
       "      <td>2</td>\n",
       "      <td>1</td>\n",
       "      <td>1</td>\n",
       "      <td>Cumings, Mrs. John Bradley (Florence Briggs Th...</td>\n",
       "      <td>female</td>\n",
       "      <td>38.0</td>\n",
       "      <td>1</td>\n",
       "      <td>0</td>\n",
       "      <td>PC 17599</td>\n",
       "      <td>71.2833</td>\n",
       "      <td>C85</td>\n",
       "      <td>C</td>\n",
       "    </tr>\n",
       "    <tr>\n",
       "      <th>2</th>\n",
       "      <td>3</td>\n",
       "      <td>1</td>\n",
       "      <td>3</td>\n",
       "      <td>Heikkinen, Miss. Laina</td>\n",
       "      <td>female</td>\n",
       "      <td>26.0</td>\n",
       "      <td>0</td>\n",
       "      <td>0</td>\n",
       "      <td>STON/O2. 3101282</td>\n",
       "      <td>7.9250</td>\n",
       "      <td>NaN</td>\n",
       "      <td>S</td>\n",
       "    </tr>\n",
       "    <tr>\n",
       "      <th>3</th>\n",
       "      <td>4</td>\n",
       "      <td>1</td>\n",
       "      <td>1</td>\n",
       "      <td>Futrelle, Mrs. Jacques Heath (Lily May Peel)</td>\n",
       "      <td>female</td>\n",
       "      <td>35.0</td>\n",
       "      <td>1</td>\n",
       "      <td>0</td>\n",
       "      <td>113803</td>\n",
       "      <td>53.1000</td>\n",
       "      <td>C123</td>\n",
       "      <td>S</td>\n",
       "    </tr>\n",
       "    <tr>\n",
       "      <th>4</th>\n",
       "      <td>5</td>\n",
       "      <td>0</td>\n",
       "      <td>3</td>\n",
       "      <td>Allen, Mr. William Henry</td>\n",
       "      <td>male</td>\n",
       "      <td>35.0</td>\n",
       "      <td>0</td>\n",
       "      <td>0</td>\n",
       "      <td>373450</td>\n",
       "      <td>8.0500</td>\n",
       "      <td>NaN</td>\n",
       "      <td>S</td>\n",
       "    </tr>\n",
       "  </tbody>\n",
       "</table>\n",
       "</div>"
      ],
      "text/plain": [
       "   PassengerId  Survived  Pclass  \\\n",
       "0            1         0       3   \n",
       "1            2         1       1   \n",
       "2            3         1       3   \n",
       "3            4         1       1   \n",
       "4            5         0       3   \n",
       "\n",
       "                                                Name     Sex   Age  SibSp  \\\n",
       "0                            Braund, Mr. Owen Harris    male  22.0      1   \n",
       "1  Cumings, Mrs. John Bradley (Florence Briggs Th...  female  38.0      1   \n",
       "2                             Heikkinen, Miss. Laina  female  26.0      0   \n",
       "3       Futrelle, Mrs. Jacques Heath (Lily May Peel)  female  35.0      1   \n",
       "4                           Allen, Mr. William Henry    male  35.0      0   \n",
       "\n",
       "   Parch            Ticket     Fare Cabin Embarked  \n",
       "0      0         A/5 21171   7.2500   NaN        S  \n",
       "1      0          PC 17599  71.2833   C85        C  \n",
       "2      0  STON/O2. 3101282   7.9250   NaN        S  \n",
       "3      0            113803  53.1000  C123        S  \n",
       "4      0            373450   8.0500   NaN        S  "
      ]
     },
     "execution_count": 3,
     "metadata": {},
     "output_type": "execute_result"
    }
   ],
   "source": [
    "train=pd.read_csv(\"/kaggle/input/titanic/train.csv\")\n",
    "test=pd.read_csv(\"/kaggle/input/titanic/test.csv\")\n",
    "train.head()"
   ]
  },
  {
   "cell_type": "code",
   "execution_count": 4,
   "id": "2e8c39b9",
   "metadata": {
    "execution": {
     "iopub.execute_input": "2023-08-07T17:13:13.334894Z",
     "iopub.status.busy": "2023-08-07T17:13:13.334492Z",
     "iopub.status.idle": "2023-08-07T17:13:13.371524Z",
     "shell.execute_reply": "2023-08-07T17:13:13.370316Z"
    },
    "papermill": {
     "duration": 0.053331,
     "end_time": "2023-08-07T17:13:13.373905",
     "exception": false,
     "start_time": "2023-08-07T17:13:13.320574",
     "status": "completed"
    },
    "tags": []
   },
   "outputs": [
    {
     "data": {
      "text/html": [
       "<div>\n",
       "<style scoped>\n",
       "    .dataframe tbody tr th:only-of-type {\n",
       "        vertical-align: middle;\n",
       "    }\n",
       "\n",
       "    .dataframe tbody tr th {\n",
       "        vertical-align: top;\n",
       "    }\n",
       "\n",
       "    .dataframe thead th {\n",
       "        text-align: right;\n",
       "    }\n",
       "</style>\n",
       "<table border=\"1\" class=\"dataframe\">\n",
       "  <thead>\n",
       "    <tr style=\"text-align: right;\">\n",
       "      <th></th>\n",
       "      <th>PassengerId</th>\n",
       "      <th>Survived</th>\n",
       "      <th>Pclass</th>\n",
       "      <th>Age</th>\n",
       "      <th>SibSp</th>\n",
       "      <th>Parch</th>\n",
       "      <th>Fare</th>\n",
       "    </tr>\n",
       "  </thead>\n",
       "  <tbody>\n",
       "    <tr>\n",
       "      <th>count</th>\n",
       "      <td>891.000000</td>\n",
       "      <td>891.000000</td>\n",
       "      <td>891.000000</td>\n",
       "      <td>714.000000</td>\n",
       "      <td>891.000000</td>\n",
       "      <td>891.000000</td>\n",
       "      <td>891.000000</td>\n",
       "    </tr>\n",
       "    <tr>\n",
       "      <th>mean</th>\n",
       "      <td>446.000000</td>\n",
       "      <td>0.383838</td>\n",
       "      <td>2.308642</td>\n",
       "      <td>29.699118</td>\n",
       "      <td>0.523008</td>\n",
       "      <td>0.381594</td>\n",
       "      <td>32.204208</td>\n",
       "    </tr>\n",
       "    <tr>\n",
       "      <th>std</th>\n",
       "      <td>257.353842</td>\n",
       "      <td>0.486592</td>\n",
       "      <td>0.836071</td>\n",
       "      <td>14.526497</td>\n",
       "      <td>1.102743</td>\n",
       "      <td>0.806057</td>\n",
       "      <td>49.693429</td>\n",
       "    </tr>\n",
       "    <tr>\n",
       "      <th>min</th>\n",
       "      <td>1.000000</td>\n",
       "      <td>0.000000</td>\n",
       "      <td>1.000000</td>\n",
       "      <td>0.420000</td>\n",
       "      <td>0.000000</td>\n",
       "      <td>0.000000</td>\n",
       "      <td>0.000000</td>\n",
       "    </tr>\n",
       "    <tr>\n",
       "      <th>25%</th>\n",
       "      <td>223.500000</td>\n",
       "      <td>0.000000</td>\n",
       "      <td>2.000000</td>\n",
       "      <td>20.125000</td>\n",
       "      <td>0.000000</td>\n",
       "      <td>0.000000</td>\n",
       "      <td>7.910400</td>\n",
       "    </tr>\n",
       "    <tr>\n",
       "      <th>50%</th>\n",
       "      <td>446.000000</td>\n",
       "      <td>0.000000</td>\n",
       "      <td>3.000000</td>\n",
       "      <td>28.000000</td>\n",
       "      <td>0.000000</td>\n",
       "      <td>0.000000</td>\n",
       "      <td>14.454200</td>\n",
       "    </tr>\n",
       "    <tr>\n",
       "      <th>75%</th>\n",
       "      <td>668.500000</td>\n",
       "      <td>1.000000</td>\n",
       "      <td>3.000000</td>\n",
       "      <td>38.000000</td>\n",
       "      <td>1.000000</td>\n",
       "      <td>0.000000</td>\n",
       "      <td>31.000000</td>\n",
       "    </tr>\n",
       "    <tr>\n",
       "      <th>max</th>\n",
       "      <td>891.000000</td>\n",
       "      <td>1.000000</td>\n",
       "      <td>3.000000</td>\n",
       "      <td>80.000000</td>\n",
       "      <td>8.000000</td>\n",
       "      <td>6.000000</td>\n",
       "      <td>512.329200</td>\n",
       "    </tr>\n",
       "  </tbody>\n",
       "</table>\n",
       "</div>"
      ],
      "text/plain": [
       "       PassengerId    Survived      Pclass         Age       SibSp  \\\n",
       "count   891.000000  891.000000  891.000000  714.000000  891.000000   \n",
       "mean    446.000000    0.383838    2.308642   29.699118    0.523008   \n",
       "std     257.353842    0.486592    0.836071   14.526497    1.102743   \n",
       "min       1.000000    0.000000    1.000000    0.420000    0.000000   \n",
       "25%     223.500000    0.000000    2.000000   20.125000    0.000000   \n",
       "50%     446.000000    0.000000    3.000000   28.000000    0.000000   \n",
       "75%     668.500000    1.000000    3.000000   38.000000    1.000000   \n",
       "max     891.000000    1.000000    3.000000   80.000000    8.000000   \n",
       "\n",
       "            Parch        Fare  \n",
       "count  891.000000  891.000000  \n",
       "mean     0.381594   32.204208  \n",
       "std      0.806057   49.693429  \n",
       "min      0.000000    0.000000  \n",
       "25%      0.000000    7.910400  \n",
       "50%      0.000000   14.454200  \n",
       "75%      0.000000   31.000000  \n",
       "max      6.000000  512.329200  "
      ]
     },
     "execution_count": 4,
     "metadata": {},
     "output_type": "execute_result"
    }
   ],
   "source": [
    "train.describe()"
   ]
  },
  {
   "cell_type": "code",
   "execution_count": 5,
   "id": "4f1a3dd3",
   "metadata": {
    "execution": {
     "iopub.execute_input": "2023-08-07T17:13:13.402791Z",
     "iopub.status.busy": "2023-08-07T17:13:13.401862Z",
     "iopub.status.idle": "2023-08-07T17:13:13.432281Z",
     "shell.execute_reply": "2023-08-07T17:13:13.430345Z"
    },
    "papermill": {
     "duration": 0.047528,
     "end_time": "2023-08-07T17:13:13.434254",
     "exception": false,
     "start_time": "2023-08-07T17:13:13.386726",
     "status": "completed"
    },
    "tags": []
   },
   "outputs": [
    {
     "name": "stdout",
     "output_type": "stream",
     "text": [
      "<class 'pandas.core.frame.DataFrame'>\n",
      "RangeIndex: 891 entries, 0 to 890\n",
      "Data columns (total 12 columns):\n",
      " #   Column       Non-Null Count  Dtype  \n",
      "---  ------       --------------  -----  \n",
      " 0   PassengerId  891 non-null    int64  \n",
      " 1   Survived     891 non-null    int64  \n",
      " 2   Pclass       891 non-null    int64  \n",
      " 3   Name         891 non-null    object \n",
      " 4   Sex          891 non-null    object \n",
      " 5   Age          714 non-null    float64\n",
      " 6   SibSp        891 non-null    int64  \n",
      " 7   Parch        891 non-null    int64  \n",
      " 8   Ticket       891 non-null    object \n",
      " 9   Fare         891 non-null    float64\n",
      " 10  Cabin        204 non-null    object \n",
      " 11  Embarked     889 non-null    object \n",
      "dtypes: float64(2), int64(5), object(5)\n",
      "memory usage: 83.7+ KB\n"
     ]
    }
   ],
   "source": [
    "train.info()"
   ]
  },
  {
   "cell_type": "markdown",
   "id": "48379f74",
   "metadata": {
    "papermill": {
     "duration": 0.011963,
     "end_time": "2023-08-07T17:13:13.458258",
     "exception": false,
     "start_time": "2023-08-07T17:13:13.446295",
     "status": "completed"
    },
    "tags": []
   },
   "source": [
    "## exploratory data analysis"
   ]
  },
  {
   "cell_type": "code",
   "execution_count": 6,
   "id": "9f1144c2",
   "metadata": {
    "execution": {
     "iopub.execute_input": "2023-08-07T17:13:13.484582Z",
     "iopub.status.busy": "2023-08-07T17:13:13.483807Z",
     "iopub.status.idle": "2023-08-07T17:13:13.694272Z",
     "shell.execute_reply": "2023-08-07T17:13:13.692377Z"
    },
    "papermill": {
     "duration": 0.226858,
     "end_time": "2023-08-07T17:13:13.696953",
     "exception": false,
     "start_time": "2023-08-07T17:13:13.470095",
     "status": "completed"
    },
    "tags": []
   },
   "outputs": [
    {
     "data": {
      "text/plain": [
       "<Axes: xlabel='Survived', ylabel='count'>"
      ]
     },
     "execution_count": 6,
     "metadata": {},
     "output_type": "execute_result"
    },
    {
     "data": {
      "image/png": "[encoded data removed]",
      "text/plain": [
       "<Figure size 640x480 with 1 Axes>"
      ]
     },
     "metadata": {},
     "output_type": "display_data"
    }
   ],
   "source": [
    "sns.countplot(x=train['Survived'])"
   ]
  },
  {
   "cell_type": "code",
   "execution_count": 7,
   "id": "4206899b",
   "metadata": {
    "execution": {
     "iopub.execute_input": "2023-08-07T17:13:13.724971Z",
     "iopub.status.busy": "2023-08-07T17:13:13.724571Z",
     "iopub.status.idle": "2023-08-07T17:13:13.899169Z",
     "shell.execute_reply": "2023-08-07T17:13:13.897611Z"
    },
    "papermill": {
     "duration": 0.191612,
     "end_time": "2023-08-07T17:13:13.901796",
     "exception": false,
     "start_time": "2023-08-07T17:13:13.710184",
     "status": "completed"
    },
    "tags": []
   },
   "outputs": [
    {
     "data": {
      "text/plain": [
       "<Axes: xlabel='Pclass', ylabel='count'>"
      ]
     },
     "execution_count": 7,
     "metadata": {},
     "output_type": "execute_result"
    },
    {
     "data": {
      "image/png": "[encoded data removed]",
      "text/plain": [
       "<Figure size 640x480 with 1 Axes>"
      ]
     },
     "metadata": {},
     "output_type": "display_data"
    }
   ],
   "source": [
    "sns.countplot(x=train['Pclass'])"
   ]
  },
  {
   "cell_type": "code",
   "execution_count": 8,
   "id": "834893ea",
   "metadata": {
    "execution": {
     "iopub.execute_input": "2023-08-07T17:13:13.930295Z",
     "iopub.status.busy": "2023-08-07T17:13:13.929143Z",
     "iopub.status.idle": "2023-08-07T17:13:14.090747Z",
     "shell.execute_reply": "2023-08-07T17:13:14.089042Z"
    },
    "papermill": {
     "duration": 0.179135,
     "end_time": "2023-08-07T17:13:14.093860",
     "exception": false,
     "start_time": "2023-08-07T17:13:13.914725",
     "status": "completed"
    },
    "tags": []
   },
   "outputs": [
    {
     "data": {
      "text/plain": [
       "<Axes: xlabel='Sex', ylabel='count'>"
      ]
     },
     "execution_count": 8,
     "metadata": {},
     "output_type": "execute_result"
    },
    {
     "data": {
      "image/png": "[encoded data removed]",
      "text/plain": [
       "<Figure size 640x480 with 1 Axes>"
      ]
     },
     "metadata": {},
     "output_type": "display_data"
    }
   ],
   "source": [
    "sns.countplot(x=train['Sex'])"
   ]
  },
  {
   "cell_type": "code",
   "execution_count": 9,
   "id": "2ce0f3b0",
   "metadata": {
    "execution": {
     "iopub.execute_input": "2023-08-07T17:13:14.124527Z",
     "iopub.status.busy": "2023-08-07T17:13:14.124132Z",
     "iopub.status.idle": "2023-08-07T17:13:14.341339Z",
     "shell.execute_reply": "2023-08-07T17:13:14.339978Z"
    },
    "papermill": {
     "duration": 0.234795,
     "end_time": "2023-08-07T17:13:14.343914",
     "exception": false,
     "start_time": "2023-08-07T17:13:14.109119",
     "status": "completed"
    },
    "tags": []
   },
   "outputs": [
    {
     "data": {
      "text/plain": [
       "<Axes: xlabel='SibSp', ylabel='count'>"
      ]
     },
     "execution_count": 9,
     "metadata": {},
     "output_type": "execute_result"
    },
    {
     "data": {
      "image/png": "[encoded data removed]",
      "text/plain": [
       "<Figure size 640x480 with 1 Axes>"
      ]
     },
     "metadata": {},
     "output_type": "display_data"
    }
   ],
   "source": [
    "sns.countplot(x=train['SibSp'])"
   ]
  },
  {
   "cell_type": "code",
   "execution_count": 10,
   "id": "4a52d386",
   "metadata": {
    "execution": {
     "iopub.execute_input": "2023-08-07T17:13:14.374024Z",
     "iopub.status.busy": "2023-08-07T17:13:14.373528Z",
     "iopub.status.idle": "2023-08-07T17:13:14.593838Z",
     "shell.execute_reply": "2023-08-07T17:13:14.591917Z"
    },
    "papermill": {
     "duration": 0.238554,
     "end_time": "2023-08-07T17:13:14.596528",
     "exception": false,
     "start_time": "2023-08-07T17:13:14.357974",
     "status": "completed"
    },
    "tags": []
   },
   "outputs": [
    {
     "data": {
      "text/plain": [
       "<Axes: xlabel='Parch', ylabel='count'>"
      ]
     },
     "execution_count": 10,
     "metadata": {},
     "output_type": "execute_result"
    },
    {
     "data": {
      "image/png": "[encoded data removed]",
      "text/plain": [
       "<Figure size 640x480 with 1 Axes>"
      ]
     },
     "metadata": {},
     "output_type": "display_data"
    }
   ],
   "source": [
    "sns.countplot(x=train['Parch'])"
   ]
  },
  {
   "cell_type": "code",
   "execution_count": 11,
   "id": "485998c2",
   "metadata": {
    "execution": {
     "iopub.execute_input": "2023-08-07T17:13:14.626455Z",
     "iopub.status.busy": "2023-08-07T17:13:14.626095Z",
     "iopub.status.idle": "2023-08-07T17:13:14.810882Z",
     "shell.execute_reply": "2023-08-07T17:13:14.809268Z"
    },
    "papermill": {
     "duration": 0.202913,
     "end_time": "2023-08-07T17:13:14.813704",
     "exception": false,
     "start_time": "2023-08-07T17:13:14.610791",
     "status": "completed"
    },
    "tags": []
   },
   "outputs": [
    {
     "data": {
      "text/plain": [
       "<Axes: xlabel='Embarked', ylabel='count'>"
      ]
     },
     "execution_count": 11,
     "metadata": {},
     "output_type": "execute_result"
    },
    {
     "data": {
      "image/png": "[encoded data removed]",
      "text/plain": [
       "<Figure size 640x480 with 1 Axes>"
      ]
     },
     "metadata": {},
     "output_type": "display_data"
    }
   ],
   "source": [
    "sns.countplot(x=train['Embarked'])"
   ]
  },
  {
   "cell_type": "code",
   "execution_count": 12,
   "id": "768175c8",
   "metadata": {
    "execution": {
     "iopub.execute_input": "2023-08-07T17:13:14.845007Z",
     "iopub.status.busy": "2023-08-07T17:13:14.844569Z",
     "iopub.status.idle": "2023-08-07T17:13:15.125480Z",
     "shell.execute_reply": "2023-08-07T17:13:15.124153Z"
    },
    "papermill": {
     "duration": 0.299639,
     "end_time": "2023-08-07T17:13:15.127845",
     "exception": false,
     "start_time": "2023-08-07T17:13:14.828206",
     "status": "completed"
    },
    "tags": []
   },
   "outputs": [
    {
     "data": {
      "text/plain": [
       "<Axes: xlabel='Age', ylabel='Density'>"
      ]
     },
     "execution_count": 12,
     "metadata": {},
     "output_type": "execute_result"
    },
    {
     "data": {
      "image/png": "[encoded data removed]",
      "text/plain": [
       "<Figure size 640x480 with 1 Axes>"
      ]
     },
     "metadata": {},
     "output_type": "display_data"
    }
   ],
   "source": [
    "sns.distplot(train['Age'])"
   ]
  },
  {
   "cell_type": "code",
   "execution_count": 13,
   "id": "42b61568",
   "metadata": {
    "execution": {
     "iopub.execute_input": "2023-08-07T17:13:15.159512Z",
     "iopub.status.busy": "2023-08-07T17:13:15.159099Z",
     "iopub.status.idle": "2023-08-07T17:13:15.453266Z",
     "shell.execute_reply": "2023-08-07T17:13:15.451259Z"
    },
    "papermill": {
     "duration": 0.313356,
     "end_time": "2023-08-07T17:13:15.456024",
     "exception": false,
     "start_time": "2023-08-07T17:13:15.142668",
     "status": "completed"
    },
    "tags": []
   },
   "outputs": [
    {
     "data": {
      "text/plain": [
       "<Axes: ylabel='Density'>"
      ]
     },
     "execution_count": 13,
     "metadata": {},
     "output_type": "execute_result"
    },
    {
     "data": {
      "image/png": "[encoded data removed]",
      "text/plain": [
       "<Figure size 640x480 with 1 Axes>"
      ]
     },
     "metadata": {},
     "output_type": "display_data"
    }
   ],
   "source": [
    "sns.distplot(x=train['Fare'])"
   ]
  },
  {
   "cell_type": "code",
   "execution_count": 14,
   "id": "85bebef3",
   "metadata": {
    "execution": {
     "iopub.execute_input": "2023-08-07T17:13:15.490316Z",
     "iopub.status.busy": "2023-08-07T17:13:15.488713Z",
     "iopub.status.idle": "2023-08-07T17:13:15.697641Z",
     "shell.execute_reply": "2023-08-07T17:13:15.694922Z"
    },
    "papermill": {
     "duration": 0.228722,
     "end_time": "2023-08-07T17:13:15.700706",
     "exception": false,
     "start_time": "2023-08-07T17:13:15.471984",
     "status": "completed"
    },
    "tags": []
   },
   "outputs": [
    {
     "data": {
      "image/png": "[encoded data removed]",
      "text/plain": [
       "<Figure size 640x480 with 1 Axes>"
      ]
     },
     "metadata": {},
     "output_type": "display_data"
    }
   ],
   "source": [
    "class_Fare=train.pivot_table(index='Pclass',values='Fare')\n",
    "class_Fare.plot(kind='bar')\n",
    "plt.ylabel(\"Avg fare\")\n",
    "plt.xticks(rotation=0)\n",
    "plt.show()"
   ]
  },
  {
   "cell_type": "code",
   "execution_count": 15,
   "id": "60049946",
   "metadata": {
    "execution": {
     "iopub.execute_input": "2023-08-07T17:13:15.734958Z",
     "iopub.status.busy": "2023-08-07T17:13:15.733271Z",
     "iopub.status.idle": "2023-08-07T17:13:15.917818Z",
     "shell.execute_reply": "2023-08-07T17:13:15.917119Z"
    },
    "papermill": {
     "duration": 0.203507,
     "end_time": "2023-08-07T17:13:15.920050",
     "exception": false,
     "start_time": "2023-08-07T17:13:15.716543",
     "status": "completed"
    },
    "tags": []
   },
   "outputs": [
    {
     "data": {
      "image/png": "[encoded data removed]",
      "text/plain": [
       "<Figure size 640x480 with 1 Axes>"
      ]
     },
     "metadata": {},
     "output_type": "display_data"
    }
   ],
   "source": [
    "class_Fare=train.pivot_table(index='Pclass',values='Fare',aggfunc=np.sum)\n",
    "class_Fare.plot(kind='bar')\n",
    "plt.ylabel(\"total fare\")\n",
    "plt.xticks(rotation=0)\n",
    "plt.show()"
   ]
  },
  {
   "cell_type": "markdown",
   "id": "936b0c01",
   "metadata": {
    "papermill": {
     "duration": 0.015026,
     "end_time": "2023-08-07T17:13:15.951271",
     "exception": false,
     "start_time": "2023-08-07T17:13:15.936245",
     "status": "completed"
    },
    "tags": []
   },
   "source": [
    "## data preprocessing"
   ]
  },
  {
   "cell_type": "markdown",
   "id": "fba028ca",
   "metadata": {
    "papermill": {
     "duration": 0.014779,
     "end_time": "2023-08-07T17:13:15.981045",
     "exception": false,
     "start_time": "2023-08-07T17:13:15.966266",
     "status": "completed"
    },
    "tags": []
   },
   "source": []
  },
  {
   "cell_type": "code",
   "execution_count": 16,
   "id": "96da562c",
   "metadata": {
    "execution": {
     "iopub.execute_input": "2023-08-07T17:13:16.014699Z",
     "iopub.status.busy": "2023-08-07T17:13:16.013305Z",
     "iopub.status.idle": "2023-08-07T17:13:16.020641Z",
     "shell.execute_reply": "2023-08-07T17:13:16.019555Z"
    },
    "papermill": {
     "duration": 0.027063,
     "end_time": "2023-08-07T17:13:16.022917",
     "exception": false,
     "start_time": "2023-08-07T17:13:15.995854",
     "status": "completed"
    },
    "tags": []
   },
   "outputs": [
    {
     "data": {
      "text/plain": [
       "891"
      ]
     },
     "execution_count": 16,
     "metadata": {},
     "output_type": "execute_result"
    }
   ],
   "source": [
    "train_len=len(train)\n",
    "train_len"
   ]
  },
  {
   "cell_type": "code",
   "execution_count": 17,
   "id": "3544bb9a",
   "metadata": {
    "execution": {
     "iopub.execute_input": "2023-08-07T17:13:16.057100Z",
     "iopub.status.busy": "2023-08-07T17:13:16.056334Z",
     "iopub.status.idle": "2023-08-07T17:13:16.078545Z",
     "shell.execute_reply": "2023-08-07T17:13:16.076890Z"
    },
    "papermill": {
     "duration": 0.042024,
     "end_time": "2023-08-07T17:13:16.081110",
     "exception": false,
     "start_time": "2023-08-07T17:13:16.039086",
     "status": "completed"
    },
    "tags": []
   },
   "outputs": [
    {
     "data": {
      "text/html": [
       "<div>\n",
       "<style scoped>\n",
       "    .dataframe tbody tr th:only-of-type {\n",
       "        vertical-align: middle;\n",
       "    }\n",
       "\n",
       "    .dataframe tbody tr th {\n",
       "        vertical-align: top;\n",
       "    }\n",
       "\n",
       "    .dataframe thead th {\n",
       "        text-align: right;\n",
       "    }\n",
       "</style>\n",
       "<table border=\"1\" class=\"dataframe\">\n",
       "  <thead>\n",
       "    <tr style=\"text-align: right;\">\n",
       "      <th></th>\n",
       "      <th>index</th>\n",
       "      <th>PassengerId</th>\n",
       "      <th>Survived</th>\n",
       "      <th>Pclass</th>\n",
       "      <th>Name</th>\n",
       "      <th>Sex</th>\n",
       "      <th>Age</th>\n",
       "      <th>SibSp</th>\n",
       "      <th>Parch</th>\n",
       "      <th>Ticket</th>\n",
       "      <th>Fare</th>\n",
       "      <th>Cabin</th>\n",
       "      <th>Embarked</th>\n",
       "    </tr>\n",
       "  </thead>\n",
       "  <tbody>\n",
       "    <tr>\n",
       "      <th>0</th>\n",
       "      <td>0</td>\n",
       "      <td>1</td>\n",
       "      <td>0.0</td>\n",
       "      <td>3</td>\n",
       "      <td>Braund, Mr. Owen Harris</td>\n",
       "      <td>male</td>\n",
       "      <td>22.0</td>\n",
       "      <td>1</td>\n",
       "      <td>0</td>\n",
       "      <td>A/5 21171</td>\n",
       "      <td>7.2500</td>\n",
       "      <td>NaN</td>\n",
       "      <td>S</td>\n",
       "    </tr>\n",
       "    <tr>\n",
       "      <th>1</th>\n",
       "      <td>1</td>\n",
       "      <td>2</td>\n",
       "      <td>1.0</td>\n",
       "      <td>1</td>\n",
       "      <td>Cumings, Mrs. John Bradley (Florence Briggs Th...</td>\n",
       "      <td>female</td>\n",
       "      <td>38.0</td>\n",
       "      <td>1</td>\n",
       "      <td>0</td>\n",
       "      <td>PC 17599</td>\n",
       "      <td>71.2833</td>\n",
       "      <td>C85</td>\n",
       "      <td>C</td>\n",
       "    </tr>\n",
       "    <tr>\n",
       "      <th>2</th>\n",
       "      <td>2</td>\n",
       "      <td>3</td>\n",
       "      <td>1.0</td>\n",
       "      <td>3</td>\n",
       "      <td>Heikkinen, Miss. Laina</td>\n",
       "      <td>female</td>\n",
       "      <td>26.0</td>\n",
       "      <td>0</td>\n",
       "      <td>0</td>\n",
       "      <td>STON/O2. 3101282</td>\n",
       "      <td>7.9250</td>\n",
       "      <td>NaN</td>\n",
       "      <td>S</td>\n",
       "    </tr>\n",
       "    <tr>\n",
       "      <th>3</th>\n",
       "      <td>3</td>\n",
       "      <td>4</td>\n",
       "      <td>1.0</td>\n",
       "      <td>1</td>\n",
       "      <td>Futrelle, Mrs. Jacques Heath (Lily May Peel)</td>\n",
       "      <td>female</td>\n",
       "      <td>35.0</td>\n",
       "      <td>1</td>\n",
       "      <td>0</td>\n",
       "      <td>113803</td>\n",
       "      <td>53.1000</td>\n",
       "      <td>C123</td>\n",
       "      <td>S</td>\n",
       "    </tr>\n",
       "    <tr>\n",
       "      <th>4</th>\n",
       "      <td>4</td>\n",
       "      <td>5</td>\n",
       "      <td>0.0</td>\n",
       "      <td>3</td>\n",
       "      <td>Allen, Mr. William Henry</td>\n",
       "      <td>male</td>\n",
       "      <td>35.0</td>\n",
       "      <td>0</td>\n",
       "      <td>0</td>\n",
       "      <td>373450</td>\n",
       "      <td>8.0500</td>\n",
       "      <td>NaN</td>\n",
       "      <td>S</td>\n",
       "    </tr>\n",
       "  </tbody>\n",
       "</table>\n",
       "</div>"
      ],
      "text/plain": [
       "   index  PassengerId  Survived  Pclass  \\\n",
       "0      0            1       0.0       3   \n",
       "1      1            2       1.0       1   \n",
       "2      2            3       1.0       3   \n",
       "3      3            4       1.0       1   \n",
       "4      4            5       0.0       3   \n",
       "\n",
       "                                                Name     Sex   Age  SibSp  \\\n",
       "0                            Braund, Mr. Owen Harris    male  22.0      1   \n",
       "1  Cumings, Mrs. John Bradley (Florence Briggs Th...  female  38.0      1   \n",
       "2                             Heikkinen, Miss. Laina  female  26.0      0   \n",
       "3       Futrelle, Mrs. Jacques Heath (Lily May Peel)  female  35.0      1   \n",
       "4                           Allen, Mr. William Henry    male  35.0      0   \n",
       "\n",
       "   Parch            Ticket     Fare Cabin Embarked  \n",
       "0      0         A/5 21171   7.2500   NaN        S  \n",
       "1      0          PC 17599  71.2833   C85        C  \n",
       "2      0  STON/O2. 3101282   7.9250   NaN        S  \n",
       "3      0            113803  53.1000  C123        S  \n",
       "4      0            373450   8.0500   NaN        S  "
      ]
     },
     "execution_count": 17,
     "metadata": {},
     "output_type": "execute_result"
    }
   ],
   "source": [
    "df=pd.concat([train,test],axis=0)\n",
    "df=df.reset_index()\n",
    "\n",
    "df.head()\n"
   ]
  },
  {
   "cell_type": "code",
   "execution_count": 18,
   "id": "1005b5fc",
   "metadata": {
    "execution": {
     "iopub.execute_input": "2023-08-07T17:13:16.115373Z",
     "iopub.status.busy": "2023-08-07T17:13:16.114957Z",
     "iopub.status.idle": "2023-08-07T17:13:16.121615Z",
     "shell.execute_reply": "2023-08-07T17:13:16.120488Z"
    },
    "papermill": {
     "duration": 0.026625,
     "end_time": "2023-08-07T17:13:16.124017",
     "exception": false,
     "start_time": "2023-08-07T17:13:16.097392",
     "status": "completed"
    },
    "tags": []
   },
   "outputs": [
    {
     "data": {
      "text/plain": [
       "1309"
      ]
     },
     "execution_count": 18,
     "metadata": {},
     "output_type": "execute_result"
    }
   ],
   "source": [
    "len(df)"
   ]
  },
  {
   "cell_type": "code",
   "execution_count": 19,
   "id": "2b594000",
   "metadata": {
    "execution": {
     "iopub.execute_input": "2023-08-07T17:13:16.158961Z",
     "iopub.status.busy": "2023-08-07T17:13:16.157699Z",
     "iopub.status.idle": "2023-08-07T17:13:16.168392Z",
     "shell.execute_reply": "2023-08-07T17:13:16.166827Z"
    },
    "papermill": {
     "duration": 0.030282,
     "end_time": "2023-08-07T17:13:16.170562",
     "exception": false,
     "start_time": "2023-08-07T17:13:16.140280",
     "status": "completed"
    },
    "tags": []
   },
   "outputs": [
    {
     "data": {
      "text/plain": [
       "index             0\n",
       "PassengerId       0\n",
       "Survived        418\n",
       "Pclass            0\n",
       "Name              0\n",
       "Sex               0\n",
       "Age             263\n",
       "SibSp             0\n",
       "Parch             0\n",
       "Ticket            0\n",
       "Fare              1\n",
       "Cabin          1014\n",
       "Embarked          2\n",
       "dtype: int64"
      ]
     },
     "execution_count": 19,
     "metadata": {},
     "output_type": "execute_result"
    }
   ],
   "source": [
    "df.isnull().sum()"
   ]
  },
  {
   "cell_type": "markdown",
   "id": "a4dadcfa",
   "metadata": {
    "papermill": {
     "duration": 0.015511,
     "end_time": "2023-08-07T17:13:16.202112",
     "exception": false,
     "start_time": "2023-08-07T17:13:16.186601",
     "status": "completed"
    },
    "tags": []
   },
   "source": []
  },
  {
   "cell_type": "code",
   "execution_count": 20,
   "id": "a859bc32",
   "metadata": {
    "execution": {
     "iopub.execute_input": "2023-08-07T17:13:16.236841Z",
     "iopub.status.busy": "2023-08-07T17:13:16.235372Z",
     "iopub.status.idle": "2023-08-07T17:13:16.241788Z",
     "shell.execute_reply": "2023-08-07T17:13:16.241017Z"
    },
    "papermill": {
     "duration": 0.02649,
     "end_time": "2023-08-07T17:13:16.244143",
     "exception": false,
     "start_time": "2023-08-07T17:13:16.217653",
     "status": "completed"
    },
    "tags": []
   },
   "outputs": [],
   "source": [
    "df=df.drop(columns=['Cabin'],axis=1)\n",
    "# dropping the cabin coloumn because it has large number of the null data"
   ]
  },
  {
   "cell_type": "code",
   "execution_count": 21,
   "id": "7f8df1fc",
   "metadata": {
    "execution": {
     "iopub.execute_input": "2023-08-07T17:13:16.277880Z",
     "iopub.status.busy": "2023-08-07T17:13:16.277476Z",
     "iopub.status.idle": "2023-08-07T17:13:16.286079Z",
     "shell.execute_reply": "2023-08-07T17:13:16.284919Z"
    },
    "papermill": {
     "duration": 0.027957,
     "end_time": "2023-08-07T17:13:16.288290",
     "exception": false,
     "start_time": "2023-08-07T17:13:16.260333",
     "status": "completed"
    },
    "tags": []
   },
   "outputs": [
    {
     "data": {
      "text/plain": [
       "29.881137667304014"
      ]
     },
     "execution_count": 21,
     "metadata": {},
     "output_type": "execute_result"
    }
   ],
   "source": [
    "df['Age'].mean()"
   ]
  },
  {
   "cell_type": "code",
   "execution_count": 22,
   "id": "029eed5e",
   "metadata": {
    "execution": {
     "iopub.execute_input": "2023-08-07T17:13:16.322869Z",
     "iopub.status.busy": "2023-08-07T17:13:16.321873Z",
     "iopub.status.idle": "2023-08-07T17:13:16.331437Z",
     "shell.execute_reply": "2023-08-07T17:13:16.330322Z"
    },
    "papermill": {
     "duration": 0.029763,
     "end_time": "2023-08-07T17:13:16.334111",
     "exception": false,
     "start_time": "2023-08-07T17:13:16.304348",
     "status": "completed"
    },
    "tags": []
   },
   "outputs": [],
   "source": [
    "#fill null values with the mean ofthe coloumn\n",
    "df['Age']=df['Age'].fillna(df['Age'].mean())\n",
    "df['Fare']=df['Fare'].fillna(df['Fare'].mean())\n",
    "#for missing values ofthe catagorical coloumn fill those missing values with the mode ofthat colouymn\n",
    "df['Embarked']=df['Embarked'].fillna(df['Embarked'].mode()[0])"
   ]
  },
  {
   "cell_type": "code",
   "execution_count": 23,
   "id": "1cb00e57",
   "metadata": {
    "execution": {
     "iopub.execute_input": "2023-08-07T17:13:16.369170Z",
     "iopub.status.busy": "2023-08-07T17:13:16.368750Z",
     "iopub.status.idle": "2023-08-07T17:13:16.378768Z",
     "shell.execute_reply": "2023-08-07T17:13:16.377485Z"
    },
    "papermill": {
     "duration": 0.029762,
     "end_time": "2023-08-07T17:13:16.380585",
     "exception": false,
     "start_time": "2023-08-07T17:13:16.350823",
     "status": "completed"
    },
    "tags": []
   },
   "outputs": [
    {
     "data": {
      "text/plain": [
       "index            0\n",
       "PassengerId      0\n",
       "Survived       418\n",
       "Pclass           0\n",
       "Name             0\n",
       "Sex              0\n",
       "Age              0\n",
       "SibSp            0\n",
       "Parch            0\n",
       "Ticket           0\n",
       "Fare             0\n",
       "Embarked         0\n",
       "dtype: int64"
      ]
     },
     "execution_count": 23,
     "metadata": {},
     "output_type": "execute_result"
    }
   ],
   "source": [
    "df.isnull().sum()"
   ]
  },
  {
   "cell_type": "markdown",
   "id": "ff946e53",
   "metadata": {
    "papermill": {
     "duration": 0.015789,
     "end_time": "2023-08-07T17:13:16.412437",
     "exception": false,
     "start_time": "2023-08-07T17:13:16.396648",
     "status": "completed"
    },
    "tags": []
   },
   "source": []
  },
  {
   "cell_type": "code",
   "execution_count": 24,
   "id": "8f41c863",
   "metadata": {
    "execution": {
     "iopub.execute_input": "2023-08-07T17:13:16.447211Z",
     "iopub.status.busy": "2023-08-07T17:13:16.446168Z",
     "iopub.status.idle": "2023-08-07T17:13:16.730679Z",
     "shell.execute_reply": "2023-08-07T17:13:16.729705Z"
    },
    "papermill": {
     "duration": 0.304352,
     "end_time": "2023-08-07T17:13:16.733139",
     "exception": false,
     "start_time": "2023-08-07T17:13:16.428787",
     "status": "completed"
    },
    "tags": []
   },
   "outputs": [
    {
     "data": {
      "text/plain": [
       "<Axes: ylabel='Density'>"
      ]
     },
     "execution_count": 24,
     "metadata": {},
     "output_type": "execute_result"
    },
    {
     "data": {
      "image/png": "[encoded data removed]",
      "text/plain": [
       "<Figure size 640x480 with 1 Axes>"
      ]
     },
     "metadata": {},
     "output_type": "display_data"
    }
   ],
   "source": [
    "# log transformation for uniform distribution ofthe fare coloumn to make the fare \n",
    "sns.distplot(x=df['Fare'])"
   ]
  },
  {
   "cell_type": "code",
   "execution_count": 25,
   "id": "22defc59",
   "metadata": {
    "execution": {
     "iopub.execute_input": "2023-08-07T17:13:16.774499Z",
     "iopub.status.busy": "2023-08-07T17:13:16.774043Z",
     "iopub.status.idle": "2023-08-07T17:13:16.781631Z",
     "shell.execute_reply": "2023-08-07T17:13:16.780041Z"
    },
    "papermill": {
     "duration": 0.033825,
     "end_time": "2023-08-07T17:13:16.784436",
     "exception": false,
     "start_time": "2023-08-07T17:13:16.750611",
     "status": "completed"
    },
    "tags": []
   },
   "outputs": [],
   "source": [
    "df['Fare']=np.log(df['Fare']+1)"
   ]
  },
  {
   "cell_type": "code",
   "execution_count": 26,
   "id": "d7af5c0b",
   "metadata": {
    "execution": {
     "iopub.execute_input": "2023-08-07T17:13:16.820591Z",
     "iopub.status.busy": "2023-08-07T17:13:16.819927Z",
     "iopub.status.idle": "2023-08-07T17:13:17.104877Z",
     "shell.execute_reply": "2023-08-07T17:13:17.102718Z"
    },
    "papermill": {
     "duration": 0.306595,
     "end_time": "2023-08-07T17:13:17.107855",
     "exception": false,
     "start_time": "2023-08-07T17:13:16.801260",
     "status": "completed"
    },
    "tags": []
   },
   "outputs": [
    {
     "data": {
      "text/plain": [
       "<Axes: ylabel='Density'>"
      ]
     },
     "execution_count": 26,
     "metadata": {},
     "output_type": "execute_result"
    },
    {
     "data": {
      "image/png": "[encoded data removed]",
      "text/plain": [
       "<Figure size 640x480 with 1 Axes>"
      ]
     },
     "metadata": {},
     "output_type": "display_data"
    }
   ],
   "source": [
    "sns.distplot(x=df['Fare'])"
   ]
  },
  {
   "cell_type": "code",
   "execution_count": 27,
   "id": "aa322091",
   "metadata": {
    "execution": {
     "iopub.execute_input": "2023-08-07T17:13:17.143633Z",
     "iopub.status.busy": "2023-08-07T17:13:17.143231Z",
     "iopub.status.idle": "2023-08-07T17:13:17.163865Z",
     "shell.execute_reply": "2023-08-07T17:13:17.162136Z"
    },
    "papermill": {
     "duration": 0.042394,
     "end_time": "2023-08-07T17:13:17.167291",
     "exception": false,
     "start_time": "2023-08-07T17:13:17.124897",
     "status": "completed"
    },
    "tags": []
   },
   "outputs": [
    {
     "data": {
      "text/html": [
       "<div>\n",
       "<style scoped>\n",
       "    .dataframe tbody tr th:only-of-type {\n",
       "        vertical-align: middle;\n",
       "    }\n",
       "\n",
       "    .dataframe tbody tr th {\n",
       "        vertical-align: top;\n",
       "    }\n",
       "\n",
       "    .dataframe thead th {\n",
       "        text-align: right;\n",
       "    }\n",
       "</style>\n",
       "<table border=\"1\" class=\"dataframe\">\n",
       "  <thead>\n",
       "    <tr style=\"text-align: right;\">\n",
       "      <th></th>\n",
       "      <th>index</th>\n",
       "      <th>PassengerId</th>\n",
       "      <th>Survived</th>\n",
       "      <th>Pclass</th>\n",
       "      <th>Age</th>\n",
       "      <th>SibSp</th>\n",
       "      <th>Parch</th>\n",
       "      <th>Fare</th>\n",
       "    </tr>\n",
       "  </thead>\n",
       "  <tbody>\n",
       "    <tr>\n",
       "      <th>index</th>\n",
       "      <td>1.000000</td>\n",
       "      <td>0.170654</td>\n",
       "      <td>-0.005007</td>\n",
       "      <td>-0.018212</td>\n",
       "      <td>0.011477</td>\n",
       "      <td>-0.027343</td>\n",
       "      <td>0.003911</td>\n",
       "      <td>-0.013681</td>\n",
       "    </tr>\n",
       "    <tr>\n",
       "      <th>PassengerId</th>\n",
       "      <td>0.170654</td>\n",
       "      <td>1.000000</td>\n",
       "      <td>-0.005007</td>\n",
       "      <td>-0.038354</td>\n",
       "      <td>0.025731</td>\n",
       "      <td>-0.055224</td>\n",
       "      <td>0.008942</td>\n",
       "      <td>0.020159</td>\n",
       "    </tr>\n",
       "    <tr>\n",
       "      <th>Survived</th>\n",
       "      <td>-0.005007</td>\n",
       "      <td>-0.005007</td>\n",
       "      <td>1.000000</td>\n",
       "      <td>-0.338481</td>\n",
       "      <td>-0.070323</td>\n",
       "      <td>-0.035322</td>\n",
       "      <td>0.081629</td>\n",
       "      <td>0.329862</td>\n",
       "    </tr>\n",
       "    <tr>\n",
       "      <th>Pclass</th>\n",
       "      <td>-0.018212</td>\n",
       "      <td>-0.038354</td>\n",
       "      <td>-0.338481</td>\n",
       "      <td>1.000000</td>\n",
       "      <td>-0.366371</td>\n",
       "      <td>0.060832</td>\n",
       "      <td>0.018322</td>\n",
       "      <td>-0.685333</td>\n",
       "    </tr>\n",
       "    <tr>\n",
       "      <th>Age</th>\n",
       "      <td>0.011477</td>\n",
       "      <td>0.025731</td>\n",
       "      <td>-0.070323</td>\n",
       "      <td>-0.366371</td>\n",
       "      <td>1.000000</td>\n",
       "      <td>-0.190747</td>\n",
       "      <td>-0.130872</td>\n",
       "      <td>0.174203</td>\n",
       "    </tr>\n",
       "    <tr>\n",
       "      <th>SibSp</th>\n",
       "      <td>-0.027343</td>\n",
       "      <td>-0.055224</td>\n",
       "      <td>-0.035322</td>\n",
       "      <td>0.060832</td>\n",
       "      <td>-0.190747</td>\n",
       "      <td>1.000000</td>\n",
       "      <td>0.373587</td>\n",
       "      <td>0.311334</td>\n",
       "    </tr>\n",
       "    <tr>\n",
       "      <th>Parch</th>\n",
       "      <td>0.003911</td>\n",
       "      <td>0.008942</td>\n",
       "      <td>0.081629</td>\n",
       "      <td>0.018322</td>\n",
       "      <td>-0.130872</td>\n",
       "      <td>0.373587</td>\n",
       "      <td>1.000000</td>\n",
       "      <td>0.323252</td>\n",
       "    </tr>\n",
       "    <tr>\n",
       "      <th>Fare</th>\n",
       "      <td>-0.013681</td>\n",
       "      <td>0.020159</td>\n",
       "      <td>0.329862</td>\n",
       "      <td>-0.685333</td>\n",
       "      <td>0.174203</td>\n",
       "      <td>0.311334</td>\n",
       "      <td>0.323252</td>\n",
       "      <td>1.000000</td>\n",
       "    </tr>\n",
       "  </tbody>\n",
       "</table>\n",
       "</div>"
      ],
      "text/plain": [
       "                index  PassengerId  Survived    Pclass       Age     SibSp  \\\n",
       "index        1.000000     0.170654 -0.005007 -0.018212  0.011477 -0.027343   \n",
       "PassengerId  0.170654     1.000000 -0.005007 -0.038354  0.025731 -0.055224   \n",
       "Survived    -0.005007    -0.005007  1.000000 -0.338481 -0.070323 -0.035322   \n",
       "Pclass      -0.018212    -0.038354 -0.338481  1.000000 -0.366371  0.060832   \n",
       "Age          0.011477     0.025731 -0.070323 -0.366371  1.000000 -0.190747   \n",
       "SibSp       -0.027343    -0.055224 -0.035322  0.060832 -0.190747  1.000000   \n",
       "Parch        0.003911     0.008942  0.081629  0.018322 -0.130872  0.373587   \n",
       "Fare        -0.013681     0.020159  0.329862 -0.685333  0.174203  0.311334   \n",
       "\n",
       "                Parch      Fare  \n",
       "index        0.003911 -0.013681  \n",
       "PassengerId  0.008942  0.020159  \n",
       "Survived     0.081629  0.329862  \n",
       "Pclass       0.018322 -0.685333  \n",
       "Age         -0.130872  0.174203  \n",
       "SibSp        0.373587  0.311334  \n",
       "Parch        1.000000  0.323252  \n",
       "Fare         0.323252  1.000000  "
      ]
     },
     "execution_count": 27,
     "metadata": {},
     "output_type": "execute_result"
    }
   ],
   "source": [
    "df.corr()"
   ]
  },
  {
   "cell_type": "code",
   "execution_count": 28,
   "id": "cb940437",
   "metadata": {
    "execution": {
     "iopub.execute_input": "2023-08-07T17:13:17.207577Z",
     "iopub.status.busy": "2023-08-07T17:13:17.206696Z",
     "iopub.status.idle": "2023-08-07T17:13:17.212760Z",
     "shell.execute_reply": "2023-08-07T17:13:17.211477Z"
    },
    "papermill": {
     "duration": 0.029145,
     "end_time": "2023-08-07T17:13:17.214814",
     "exception": false,
     "start_time": "2023-08-07T17:13:17.185669",
     "status": "completed"
    },
    "tags": []
   },
   "outputs": [],
   "source": [
    "df=df.drop(columns=['index'],axis=1)"
   ]
  },
  {
   "cell_type": "code",
   "execution_count": 29,
   "id": "4533e4d8",
   "metadata": {
    "execution": {
     "iopub.execute_input": "2023-08-07T17:13:17.250804Z",
     "iopub.status.busy": "2023-08-07T17:13:17.250381Z",
     "iopub.status.idle": "2023-08-07T17:13:17.883154Z",
     "shell.execute_reply": "2023-08-07T17:13:17.881040Z"
    },
    "papermill": {
     "duration": 0.654411,
     "end_time": "2023-08-07T17:13:17.886553",
     "exception": false,
     "start_time": "2023-08-07T17:13:17.232142",
     "status": "completed"
    },
    "tags": []
   },
   "outputs": [
    {
     "data": {
      "text/plain": [
       "<Axes: >"
      ]
     },
     "execution_count": 29,
     "metadata": {},
     "output_type": "execute_result"
    },
    {
     "data": {
      "image/png": "[encoded data removed]",
      "text/plain": [
       "<Figure size 640x480 with 2 Axes>"
      ]
     },
     "metadata": {},
     "output_type": "display_data"
    }
   ],
   "source": [
    "corr=df.corr()\n",
    "# plt.figure(figsize=(15,15))\n",
    "sns.heatmap(corr,annot=True,cmap='coolwarm')"
   ]
  },
  {
   "cell_type": "code",
   "execution_count": 30,
   "id": "2c3ba73d",
   "metadata": {
    "execution": {
     "iopub.execute_input": "2023-08-07T17:13:17.926629Z",
     "iopub.status.busy": "2023-08-07T17:13:17.925835Z",
     "iopub.status.idle": "2023-08-07T17:13:17.940175Z",
     "shell.execute_reply": "2023-08-07T17:13:17.938971Z"
    },
    "papermill": {
     "duration": 0.036604,
     "end_time": "2023-08-07T17:13:17.942233",
     "exception": false,
     "start_time": "2023-08-07T17:13:17.905629",
     "status": "completed"
    },
    "tags": []
   },
   "outputs": [
    {
     "data": {
      "text/html": [
       "<div>\n",
       "<style scoped>\n",
       "    .dataframe tbody tr th:only-of-type {\n",
       "        vertical-align: middle;\n",
       "    }\n",
       "\n",
       "    .dataframe tbody tr th {\n",
       "        vertical-align: top;\n",
       "    }\n",
       "\n",
       "    .dataframe thead th {\n",
       "        text-align: right;\n",
       "    }\n",
       "</style>\n",
       "<table border=\"1\" class=\"dataframe\">\n",
       "  <thead>\n",
       "    <tr style=\"text-align: right;\">\n",
       "      <th></th>\n",
       "      <th>PassengerId</th>\n",
       "      <th>Survived</th>\n",
       "      <th>Pclass</th>\n",
       "      <th>Name</th>\n",
       "      <th>Sex</th>\n",
       "      <th>Age</th>\n",
       "      <th>SibSp</th>\n",
       "      <th>Parch</th>\n",
       "      <th>Ticket</th>\n",
       "      <th>Fare</th>\n",
       "      <th>Embarked</th>\n",
       "    </tr>\n",
       "  </thead>\n",
       "  <tbody>\n",
       "    <tr>\n",
       "      <th>0</th>\n",
       "      <td>1</td>\n",
       "      <td>0.0</td>\n",
       "      <td>3</td>\n",
       "      <td>Braund, Mr. Owen Harris</td>\n",
       "      <td>male</td>\n",
       "      <td>22.0</td>\n",
       "      <td>1</td>\n",
       "      <td>0</td>\n",
       "      <td>A/5 21171</td>\n",
       "      <td>2.110213</td>\n",
       "      <td>S</td>\n",
       "    </tr>\n",
       "    <tr>\n",
       "      <th>1</th>\n",
       "      <td>2</td>\n",
       "      <td>1.0</td>\n",
       "      <td>1</td>\n",
       "      <td>Cumings, Mrs. John Bradley (Florence Briggs Th...</td>\n",
       "      <td>female</td>\n",
       "      <td>38.0</td>\n",
       "      <td>1</td>\n",
       "      <td>0</td>\n",
       "      <td>PC 17599</td>\n",
       "      <td>4.280593</td>\n",
       "      <td>C</td>\n",
       "    </tr>\n",
       "    <tr>\n",
       "      <th>2</th>\n",
       "      <td>3</td>\n",
       "      <td>1.0</td>\n",
       "      <td>3</td>\n",
       "      <td>Heikkinen, Miss. Laina</td>\n",
       "      <td>female</td>\n",
       "      <td>26.0</td>\n",
       "      <td>0</td>\n",
       "      <td>0</td>\n",
       "      <td>STON/O2. 3101282</td>\n",
       "      <td>2.188856</td>\n",
       "      <td>S</td>\n",
       "    </tr>\n",
       "    <tr>\n",
       "      <th>3</th>\n",
       "      <td>4</td>\n",
       "      <td>1.0</td>\n",
       "      <td>1</td>\n",
       "      <td>Futrelle, Mrs. Jacques Heath (Lily May Peel)</td>\n",
       "      <td>female</td>\n",
       "      <td>35.0</td>\n",
       "      <td>1</td>\n",
       "      <td>0</td>\n",
       "      <td>113803</td>\n",
       "      <td>3.990834</td>\n",
       "      <td>S</td>\n",
       "    </tr>\n",
       "    <tr>\n",
       "      <th>4</th>\n",
       "      <td>5</td>\n",
       "      <td>0.0</td>\n",
       "      <td>3</td>\n",
       "      <td>Allen, Mr. William Henry</td>\n",
       "      <td>male</td>\n",
       "      <td>35.0</td>\n",
       "      <td>0</td>\n",
       "      <td>0</td>\n",
       "      <td>373450</td>\n",
       "      <td>2.202765</td>\n",
       "      <td>S</td>\n",
       "    </tr>\n",
       "  </tbody>\n",
       "</table>\n",
       "</div>"
      ],
      "text/plain": [
       "   PassengerId  Survived  Pclass  \\\n",
       "0            1       0.0       3   \n",
       "1            2       1.0       1   \n",
       "2            3       1.0       3   \n",
       "3            4       1.0       1   \n",
       "4            5       0.0       3   \n",
       "\n",
       "                                                Name     Sex   Age  SibSp  \\\n",
       "0                            Braund, Mr. Owen Harris    male  22.0      1   \n",
       "1  Cumings, Mrs. John Bradley (Florence Briggs Th...  female  38.0      1   \n",
       "2                             Heikkinen, Miss. Laina  female  26.0      0   \n",
       "3       Futrelle, Mrs. Jacques Heath (Lily May Peel)  female  35.0      1   \n",
       "4                           Allen, Mr. William Henry    male  35.0      0   \n",
       "\n",
       "   Parch            Ticket      Fare Embarked  \n",
       "0      0         A/5 21171  2.110213        S  \n",
       "1      0          PC 17599  4.280593        C  \n",
       "2      0  STON/O2. 3101282  2.188856        S  \n",
       "3      0            113803  3.990834        S  \n",
       "4      0            373450  2.202765        S  "
      ]
     },
     "execution_count": 30,
     "metadata": {},
     "output_type": "execute_result"
    }
   ],
   "source": [
    "df.head()"
   ]
  },
  {
   "cell_type": "code",
   "execution_count": 31,
   "id": "1d24115a",
   "metadata": {
    "execution": {
     "iopub.execute_input": "2023-08-07T17:13:17.981873Z",
     "iopub.status.busy": "2023-08-07T17:13:17.981046Z",
     "iopub.status.idle": "2023-08-07T17:13:17.988658Z",
     "shell.execute_reply": "2023-08-07T17:13:17.987290Z"
    },
    "papermill": {
     "duration": 0.030192,
     "end_time": "2023-08-07T17:13:17.990545",
     "exception": false,
     "start_time": "2023-08-07T17:13:17.960353",
     "status": "completed"
    },
    "tags": []
   },
   "outputs": [],
   "source": [
    "df=df.drop(columns=['Name','Ticket'],axis=1)\n",
    "# dropping unnecessary coloumns"
   ]
  },
  {
   "cell_type": "code",
   "execution_count": 32,
   "id": "6ef8c3d2",
   "metadata": {
    "execution": {
     "iopub.execute_input": "2023-08-07T17:13:18.031251Z",
     "iopub.status.busy": "2023-08-07T17:13:18.030794Z",
     "iopub.status.idle": "2023-08-07T17:13:18.046679Z",
     "shell.execute_reply": "2023-08-07T17:13:18.044969Z"
    },
    "papermill": {
     "duration": 0.038812,
     "end_time": "2023-08-07T17:13:18.049504",
     "exception": false,
     "start_time": "2023-08-07T17:13:18.010692",
     "status": "completed"
    },
    "tags": []
   },
   "outputs": [
    {
     "data": {
      "text/html": [
       "<div>\n",
       "<style scoped>\n",
       "    .dataframe tbody tr th:only-of-type {\n",
       "        vertical-align: middle;\n",
       "    }\n",
       "\n",
       "    .dataframe tbody tr th {\n",
       "        vertical-align: top;\n",
       "    }\n",
       "\n",
       "    .dataframe thead th {\n",
       "        text-align: right;\n",
       "    }\n",
       "</style>\n",
       "<table border=\"1\" class=\"dataframe\">\n",
       "  <thead>\n",
       "    <tr style=\"text-align: right;\">\n",
       "      <th></th>\n",
       "      <th>PassengerId</th>\n",
       "      <th>Survived</th>\n",
       "      <th>Pclass</th>\n",
       "      <th>Sex</th>\n",
       "      <th>Age</th>\n",
       "      <th>SibSp</th>\n",
       "      <th>Parch</th>\n",
       "      <th>Fare</th>\n",
       "      <th>Embarked</th>\n",
       "    </tr>\n",
       "  </thead>\n",
       "  <tbody>\n",
       "    <tr>\n",
       "      <th>0</th>\n",
       "      <td>1</td>\n",
       "      <td>0.0</td>\n",
       "      <td>3</td>\n",
       "      <td>male</td>\n",
       "      <td>22.0</td>\n",
       "      <td>1</td>\n",
       "      <td>0</td>\n",
       "      <td>2.110213</td>\n",
       "      <td>S</td>\n",
       "    </tr>\n",
       "    <tr>\n",
       "      <th>1</th>\n",
       "      <td>2</td>\n",
       "      <td>1.0</td>\n",
       "      <td>1</td>\n",
       "      <td>female</td>\n",
       "      <td>38.0</td>\n",
       "      <td>1</td>\n",
       "      <td>0</td>\n",
       "      <td>4.280593</td>\n",
       "      <td>C</td>\n",
       "    </tr>\n",
       "    <tr>\n",
       "      <th>2</th>\n",
       "      <td>3</td>\n",
       "      <td>1.0</td>\n",
       "      <td>3</td>\n",
       "      <td>female</td>\n",
       "      <td>26.0</td>\n",
       "      <td>0</td>\n",
       "      <td>0</td>\n",
       "      <td>2.188856</td>\n",
       "      <td>S</td>\n",
       "    </tr>\n",
       "    <tr>\n",
       "      <th>3</th>\n",
       "      <td>4</td>\n",
       "      <td>1.0</td>\n",
       "      <td>1</td>\n",
       "      <td>female</td>\n",
       "      <td>35.0</td>\n",
       "      <td>1</td>\n",
       "      <td>0</td>\n",
       "      <td>3.990834</td>\n",
       "      <td>S</td>\n",
       "    </tr>\n",
       "    <tr>\n",
       "      <th>4</th>\n",
       "      <td>5</td>\n",
       "      <td>0.0</td>\n",
       "      <td>3</td>\n",
       "      <td>male</td>\n",
       "      <td>35.0</td>\n",
       "      <td>0</td>\n",
       "      <td>0</td>\n",
       "      <td>2.202765</td>\n",
       "      <td>S</td>\n",
       "    </tr>\n",
       "  </tbody>\n",
       "</table>\n",
       "</div>"
      ],
      "text/plain": [
       "   PassengerId  Survived  Pclass     Sex   Age  SibSp  Parch      Fare  \\\n",
       "0            1       0.0       3    male  22.0      1      0  2.110213   \n",
       "1            2       1.0       1  female  38.0      1      0  4.280593   \n",
       "2            3       1.0       3  female  26.0      0      0  2.188856   \n",
       "3            4       1.0       1  female  35.0      1      0  3.990834   \n",
       "4            5       0.0       3    male  35.0      0      0  2.202765   \n",
       "\n",
       "  Embarked  \n",
       "0        S  \n",
       "1        C  \n",
       "2        S  \n",
       "3        S  \n",
       "4        S  "
      ]
     },
     "execution_count": 32,
     "metadata": {},
     "output_type": "execute_result"
    }
   ],
   "source": [
    "df.head()"
   ]
  },
  {
   "cell_type": "code",
   "execution_count": 33,
   "id": "eb9f4d59",
   "metadata": {
    "execution": {
     "iopub.execute_input": "2023-08-07T17:13:18.089690Z",
     "iopub.status.busy": "2023-08-07T17:13:18.089255Z",
     "iopub.status.idle": "2023-08-07T17:13:18.319642Z",
     "shell.execute_reply": "2023-08-07T17:13:18.318404Z"
    },
    "papermill": {
     "duration": 0.252984,
     "end_time": "2023-08-07T17:13:18.321876",
     "exception": false,
     "start_time": "2023-08-07T17:13:18.068892",
     "status": "completed"
    },
    "tags": []
   },
   "outputs": [
    {
     "data": {
      "text/html": [
       "<div>\n",
       "<style scoped>\n",
       "    .dataframe tbody tr th:only-of-type {\n",
       "        vertical-align: middle;\n",
       "    }\n",
       "\n",
       "    .dataframe tbody tr th {\n",
       "        vertical-align: top;\n",
       "    }\n",
       "\n",
       "    .dataframe thead th {\n",
       "        text-align: right;\n",
       "    }\n",
       "</style>\n",
       "<table border=\"1\" class=\"dataframe\">\n",
       "  <thead>\n",
       "    <tr style=\"text-align: right;\">\n",
       "      <th></th>\n",
       "      <th>PassengerId</th>\n",
       "      <th>Survived</th>\n",
       "      <th>Pclass</th>\n",
       "      <th>Sex</th>\n",
       "      <th>Age</th>\n",
       "      <th>SibSp</th>\n",
       "      <th>Parch</th>\n",
       "      <th>Fare</th>\n",
       "      <th>Embarked</th>\n",
       "    </tr>\n",
       "  </thead>\n",
       "  <tbody>\n",
       "    <tr>\n",
       "      <th>0</th>\n",
       "      <td>1</td>\n",
       "      <td>0.0</td>\n",
       "      <td>3</td>\n",
       "      <td>1</td>\n",
       "      <td>22.0</td>\n",
       "      <td>1</td>\n",
       "      <td>0</td>\n",
       "      <td>2.110213</td>\n",
       "      <td>2</td>\n",
       "    </tr>\n",
       "    <tr>\n",
       "      <th>1</th>\n",
       "      <td>2</td>\n",
       "      <td>1.0</td>\n",
       "      <td>1</td>\n",
       "      <td>0</td>\n",
       "      <td>38.0</td>\n",
       "      <td>1</td>\n",
       "      <td>0</td>\n",
       "      <td>4.280593</td>\n",
       "      <td>0</td>\n",
       "    </tr>\n",
       "    <tr>\n",
       "      <th>2</th>\n",
       "      <td>3</td>\n",
       "      <td>1.0</td>\n",
       "      <td>3</td>\n",
       "      <td>0</td>\n",
       "      <td>26.0</td>\n",
       "      <td>0</td>\n",
       "      <td>0</td>\n",
       "      <td>2.188856</td>\n",
       "      <td>2</td>\n",
       "    </tr>\n",
       "    <tr>\n",
       "      <th>3</th>\n",
       "      <td>4</td>\n",
       "      <td>1.0</td>\n",
       "      <td>1</td>\n",
       "      <td>0</td>\n",
       "      <td>35.0</td>\n",
       "      <td>1</td>\n",
       "      <td>0</td>\n",
       "      <td>3.990834</td>\n",
       "      <td>2</td>\n",
       "    </tr>\n",
       "    <tr>\n",
       "      <th>4</th>\n",
       "      <td>5</td>\n",
       "      <td>0.0</td>\n",
       "      <td>3</td>\n",
       "      <td>1</td>\n",
       "      <td>35.0</td>\n",
       "      <td>0</td>\n",
       "      <td>0</td>\n",
       "      <td>2.202765</td>\n",
       "      <td>2</td>\n",
       "    </tr>\n",
       "  </tbody>\n",
       "</table>\n",
       "</div>"
      ],
      "text/plain": [
       "   PassengerId  Survived  Pclass  Sex   Age  SibSp  Parch      Fare  Embarked\n",
       "0            1       0.0       3    1  22.0      1      0  2.110213         2\n",
       "1            2       1.0       1    0  38.0      1      0  4.280593         0\n",
       "2            3       1.0       3    0  26.0      0      0  2.188856         2\n",
       "3            4       1.0       1    0  35.0      1      0  3.990834         2\n",
       "4            5       0.0       3    1  35.0      0      0  2.202765         2"
      ]
     },
     "execution_count": 33,
     "metadata": {},
     "output_type": "execute_result"
    }
   ],
   "source": [
    "## label encoding\n",
    "from sklearn.preprocessing import LabelEncoder\n",
    "le=LabelEncoder()\n",
    "cols=['Sex','Embarked']\n",
    "for col in cols:\n",
    "    df[col]=le.fit_transform(df[col])\n",
    "df.head()"
   ]
  },
  {
   "cell_type": "markdown",
   "id": "63ed2258",
   "metadata": {
    "papermill": {
     "duration": 0.017708,
     "end_time": "2023-08-07T17:13:18.358783",
     "exception": false,
     "start_time": "2023-08-07T17:13:18.341075",
     "status": "completed"
    },
    "tags": []
   },
   "source": [
    "## train test split"
   ]
  },
  {
   "cell_type": "code",
   "execution_count": 34,
   "id": "185b6830",
   "metadata": {
    "execution": {
     "iopub.execute_input": "2023-08-07T17:13:18.397268Z",
     "iopub.status.busy": "2023-08-07T17:13:18.396806Z",
     "iopub.status.idle": "2023-08-07T17:13:18.402667Z",
     "shell.execute_reply": "2023-08-07T17:13:18.401315Z"
    },
    "papermill": {
     "duration": 0.027492,
     "end_time": "2023-08-07T17:13:18.404612",
     "exception": false,
     "start_time": "2023-08-07T17:13:18.377120",
     "status": "completed"
    },
    "tags": []
   },
   "outputs": [],
   "source": [
    "traindat=df.iloc[:train_len,:]\n",
    "testdat=df.iloc[train_len:,:]"
   ]
  },
  {
   "cell_type": "code",
   "execution_count": 35,
   "id": "f0ae23c3",
   "metadata": {
    "execution": {
     "iopub.execute_input": "2023-08-07T17:13:18.443769Z",
     "iopub.status.busy": "2023-08-07T17:13:18.443079Z",
     "iopub.status.idle": "2023-08-07T17:13:18.455681Z",
     "shell.execute_reply": "2023-08-07T17:13:18.454497Z"
    },
    "papermill": {
     "duration": 0.035053,
     "end_time": "2023-08-07T17:13:18.458261",
     "exception": false,
     "start_time": "2023-08-07T17:13:18.423208",
     "status": "completed"
    },
    "tags": []
   },
   "outputs": [
    {
     "data": {
      "text/html": [
       "<div>\n",
       "<style scoped>\n",
       "    .dataframe tbody tr th:only-of-type {\n",
       "        vertical-align: middle;\n",
       "    }\n",
       "\n",
       "    .dataframe tbody tr th {\n",
       "        vertical-align: top;\n",
       "    }\n",
       "\n",
       "    .dataframe thead th {\n",
       "        text-align: right;\n",
       "    }\n",
       "</style>\n",
       "<table border=\"1\" class=\"dataframe\">\n",
       "  <thead>\n",
       "    <tr style=\"text-align: right;\">\n",
       "      <th></th>\n",
       "      <th>PassengerId</th>\n",
       "      <th>Survived</th>\n",
       "      <th>Pclass</th>\n",
       "      <th>Sex</th>\n",
       "      <th>Age</th>\n",
       "      <th>SibSp</th>\n",
       "      <th>Parch</th>\n",
       "      <th>Fare</th>\n",
       "      <th>Embarked</th>\n",
       "    </tr>\n",
       "  </thead>\n",
       "  <tbody>\n",
       "    <tr>\n",
       "      <th>0</th>\n",
       "      <td>1</td>\n",
       "      <td>0.0</td>\n",
       "      <td>3</td>\n",
       "      <td>1</td>\n",
       "      <td>22.0</td>\n",
       "      <td>1</td>\n",
       "      <td>0</td>\n",
       "      <td>2.110213</td>\n",
       "      <td>2</td>\n",
       "    </tr>\n",
       "    <tr>\n",
       "      <th>1</th>\n",
       "      <td>2</td>\n",
       "      <td>1.0</td>\n",
       "      <td>1</td>\n",
       "      <td>0</td>\n",
       "      <td>38.0</td>\n",
       "      <td>1</td>\n",
       "      <td>0</td>\n",
       "      <td>4.280593</td>\n",
       "      <td>0</td>\n",
       "    </tr>\n",
       "    <tr>\n",
       "      <th>2</th>\n",
       "      <td>3</td>\n",
       "      <td>1.0</td>\n",
       "      <td>3</td>\n",
       "      <td>0</td>\n",
       "      <td>26.0</td>\n",
       "      <td>0</td>\n",
       "      <td>0</td>\n",
       "      <td>2.188856</td>\n",
       "      <td>2</td>\n",
       "    </tr>\n",
       "    <tr>\n",
       "      <th>3</th>\n",
       "      <td>4</td>\n",
       "      <td>1.0</td>\n",
       "      <td>1</td>\n",
       "      <td>0</td>\n",
       "      <td>35.0</td>\n",
       "      <td>1</td>\n",
       "      <td>0</td>\n",
       "      <td>3.990834</td>\n",
       "      <td>2</td>\n",
       "    </tr>\n",
       "    <tr>\n",
       "      <th>4</th>\n",
       "      <td>5</td>\n",
       "      <td>0.0</td>\n",
       "      <td>3</td>\n",
       "      <td>1</td>\n",
       "      <td>35.0</td>\n",
       "      <td>0</td>\n",
       "      <td>0</td>\n",
       "      <td>2.202765</td>\n",
       "      <td>2</td>\n",
       "    </tr>\n",
       "  </tbody>\n",
       "</table>\n",
       "</div>"
      ],
      "text/plain": [
       "   PassengerId  Survived  Pclass  Sex   Age  SibSp  Parch      Fare  Embarked\n",
       "0            1       0.0       3    1  22.0      1      0  2.110213         2\n",
       "1            2       1.0       1    0  38.0      1      0  4.280593         0\n",
       "2            3       1.0       3    0  26.0      0      0  2.188856         2\n",
       "3            4       1.0       1    0  35.0      1      0  3.990834         2\n",
       "4            5       0.0       3    1  35.0      0      0  2.202765         2"
      ]
     },
     "execution_count": 35,
     "metadata": {},
     "output_type": "execute_result"
    }
   ],
   "source": [
    "traindat.head()\n"
   ]
  },
  {
   "cell_type": "code",
   "execution_count": 36,
   "id": "d8b4a2ea",
   "metadata": {
    "execution": {
     "iopub.execute_input": "2023-08-07T17:13:18.498025Z",
     "iopub.status.busy": "2023-08-07T17:13:18.497644Z",
     "iopub.status.idle": "2023-08-07T17:13:18.509767Z",
     "shell.execute_reply": "2023-08-07T17:13:18.508463Z"
    },
    "papermill": {
     "duration": 0.035092,
     "end_time": "2023-08-07T17:13:18.512322",
     "exception": false,
     "start_time": "2023-08-07T17:13:18.477230",
     "status": "completed"
    },
    "tags": []
   },
   "outputs": [
    {
     "data": {
      "text/html": [
       "<div>\n",
       "<style scoped>\n",
       "    .dataframe tbody tr th:only-of-type {\n",
       "        vertical-align: middle;\n",
       "    }\n",
       "\n",
       "    .dataframe tbody tr th {\n",
       "        vertical-align: top;\n",
       "    }\n",
       "\n",
       "    .dataframe thead th {\n",
       "        text-align: right;\n",
       "    }\n",
       "</style>\n",
       "<table border=\"1\" class=\"dataframe\">\n",
       "  <thead>\n",
       "    <tr style=\"text-align: right;\">\n",
       "      <th></th>\n",
       "      <th>PassengerId</th>\n",
       "      <th>Survived</th>\n",
       "      <th>Pclass</th>\n",
       "      <th>Sex</th>\n",
       "      <th>Age</th>\n",
       "      <th>SibSp</th>\n",
       "      <th>Parch</th>\n",
       "      <th>Fare</th>\n",
       "      <th>Embarked</th>\n",
       "    </tr>\n",
       "  </thead>\n",
       "  <tbody>\n",
       "    <tr>\n",
       "      <th>891</th>\n",
       "      <td>892</td>\n",
       "      <td>NaN</td>\n",
       "      <td>3</td>\n",
       "      <td>1</td>\n",
       "      <td>34.5</td>\n",
       "      <td>0</td>\n",
       "      <td>0</td>\n",
       "      <td>2.178064</td>\n",
       "      <td>1</td>\n",
       "    </tr>\n",
       "    <tr>\n",
       "      <th>892</th>\n",
       "      <td>893</td>\n",
       "      <td>NaN</td>\n",
       "      <td>3</td>\n",
       "      <td>0</td>\n",
       "      <td>47.0</td>\n",
       "      <td>1</td>\n",
       "      <td>0</td>\n",
       "      <td>2.079442</td>\n",
       "      <td>2</td>\n",
       "    </tr>\n",
       "    <tr>\n",
       "      <th>893</th>\n",
       "      <td>894</td>\n",
       "      <td>NaN</td>\n",
       "      <td>2</td>\n",
       "      <td>1</td>\n",
       "      <td>62.0</td>\n",
       "      <td>0</td>\n",
       "      <td>0</td>\n",
       "      <td>2.369075</td>\n",
       "      <td>1</td>\n",
       "    </tr>\n",
       "    <tr>\n",
       "      <th>894</th>\n",
       "      <td>895</td>\n",
       "      <td>NaN</td>\n",
       "      <td>3</td>\n",
       "      <td>1</td>\n",
       "      <td>27.0</td>\n",
       "      <td>0</td>\n",
       "      <td>0</td>\n",
       "      <td>2.268252</td>\n",
       "      <td>2</td>\n",
       "    </tr>\n",
       "    <tr>\n",
       "      <th>895</th>\n",
       "      <td>896</td>\n",
       "      <td>NaN</td>\n",
       "      <td>3</td>\n",
       "      <td>0</td>\n",
       "      <td>22.0</td>\n",
       "      <td>1</td>\n",
       "      <td>1</td>\n",
       "      <td>2.586824</td>\n",
       "      <td>2</td>\n",
       "    </tr>\n",
       "  </tbody>\n",
       "</table>\n",
       "</div>"
      ],
      "text/plain": [
       "     PassengerId  Survived  Pclass  Sex   Age  SibSp  Parch      Fare  \\\n",
       "891          892       NaN       3    1  34.5      0      0  2.178064   \n",
       "892          893       NaN       3    0  47.0      1      0  2.079442   \n",
       "893          894       NaN       2    1  62.0      0      0  2.369075   \n",
       "894          895       NaN       3    1  27.0      0      0  2.268252   \n",
       "895          896       NaN       3    0  22.0      1      1  2.586824   \n",
       "\n",
       "     Embarked  \n",
       "891         1  \n",
       "892         2  \n",
       "893         1  \n",
       "894         2  \n",
       "895         2  "
      ]
     },
     "execution_count": 36,
     "metadata": {},
     "output_type": "execute_result"
    }
   ],
   "source": [
    "testdat.head()"
   ]
  },
  {
   "cell_type": "code",
   "execution_count": 37,
   "id": "3c051c78",
   "metadata": {
    "execution": {
     "iopub.execute_input": "2023-08-07T17:13:18.553913Z",
     "iopub.status.busy": "2023-08-07T17:13:18.553531Z",
     "iopub.status.idle": "2023-08-07T17:13:18.566255Z",
     "shell.execute_reply": "2023-08-07T17:13:18.565265Z"
    },
    "papermill": {
     "duration": 0.035968,
     "end_time": "2023-08-07T17:13:18.568368",
     "exception": false,
     "start_time": "2023-08-07T17:13:18.532400",
     "status": "completed"
    },
    "tags": []
   },
   "outputs": [
    {
     "data": {
      "text/html": [
       "<div>\n",
       "<style scoped>\n",
       "    .dataframe tbody tr th:only-of-type {\n",
       "        vertical-align: middle;\n",
       "    }\n",
       "\n",
       "    .dataframe tbody tr th {\n",
       "        vertical-align: top;\n",
       "    }\n",
       "\n",
       "    .dataframe thead th {\n",
       "        text-align: right;\n",
       "    }\n",
       "</style>\n",
       "<table border=\"1\" class=\"dataframe\">\n",
       "  <thead>\n",
       "    <tr style=\"text-align: right;\">\n",
       "      <th></th>\n",
       "      <th>Pclass</th>\n",
       "      <th>Sex</th>\n",
       "      <th>Age</th>\n",
       "      <th>SibSp</th>\n",
       "      <th>Parch</th>\n",
       "      <th>Fare</th>\n",
       "      <th>Embarked</th>\n",
       "    </tr>\n",
       "  </thead>\n",
       "  <tbody>\n",
       "    <tr>\n",
       "      <th>0</th>\n",
       "      <td>3</td>\n",
       "      <td>1</td>\n",
       "      <td>22.0</td>\n",
       "      <td>1</td>\n",
       "      <td>0</td>\n",
       "      <td>2.110213</td>\n",
       "      <td>2</td>\n",
       "    </tr>\n",
       "    <tr>\n",
       "      <th>1</th>\n",
       "      <td>1</td>\n",
       "      <td>0</td>\n",
       "      <td>38.0</td>\n",
       "      <td>1</td>\n",
       "      <td>0</td>\n",
       "      <td>4.280593</td>\n",
       "      <td>0</td>\n",
       "    </tr>\n",
       "    <tr>\n",
       "      <th>2</th>\n",
       "      <td>3</td>\n",
       "      <td>0</td>\n",
       "      <td>26.0</td>\n",
       "      <td>0</td>\n",
       "      <td>0</td>\n",
       "      <td>2.188856</td>\n",
       "      <td>2</td>\n",
       "    </tr>\n",
       "    <tr>\n",
       "      <th>3</th>\n",
       "      <td>1</td>\n",
       "      <td>0</td>\n",
       "      <td>35.0</td>\n",
       "      <td>1</td>\n",
       "      <td>0</td>\n",
       "      <td>3.990834</td>\n",
       "      <td>2</td>\n",
       "    </tr>\n",
       "    <tr>\n",
       "      <th>4</th>\n",
       "      <td>3</td>\n",
       "      <td>1</td>\n",
       "      <td>35.0</td>\n",
       "      <td>0</td>\n",
       "      <td>0</td>\n",
       "      <td>2.202765</td>\n",
       "      <td>2</td>\n",
       "    </tr>\n",
       "  </tbody>\n",
       "</table>\n",
       "</div>"
      ],
      "text/plain": [
       "   Pclass  Sex   Age  SibSp  Parch      Fare  Embarked\n",
       "0       3    1  22.0      1      0  2.110213         2\n",
       "1       1    0  38.0      1      0  4.280593         0\n",
       "2       3    0  26.0      0      0  2.188856         2\n",
       "3       1    0  35.0      1      0  3.990834         2\n",
       "4       3    1  35.0      0      0  2.202765         2"
      ]
     },
     "execution_count": 37,
     "metadata": {},
     "output_type": "execute_result"
    }
   ],
   "source": [
    "x=traindat.drop(columns=['PassengerId','Survived'])\n",
    "y=traindat['Survived']\n",
    "x.head()"
   ]
  },
  {
   "cell_type": "markdown",
   "id": "a9cab60e",
   "metadata": {
    "papermill": {
     "duration": 0.018438,
     "end_time": "2023-08-07T17:13:18.605556",
     "exception": false,
     "start_time": "2023-08-07T17:13:18.587118",
     "status": "completed"
    },
    "tags": []
   },
   "source": []
  },
  {
   "cell_type": "code",
   "execution_count": 38,
   "id": "6267ec0b",
   "metadata": {
    "execution": {
     "iopub.execute_input": "2023-08-07T17:13:18.646203Z",
     "iopub.status.busy": "2023-08-07T17:13:18.645470Z",
     "iopub.status.idle": "2023-08-07T17:13:18.655714Z",
     "shell.execute_reply": "2023-08-07T17:13:18.654095Z"
    },
    "papermill": {
     "duration": 0.03428,
     "end_time": "2023-08-07T17:13:18.658622",
     "exception": false,
     "start_time": "2023-08-07T17:13:18.624342",
     "status": "completed"
    },
    "tags": []
   },
   "outputs": [
    {
     "data": {
      "text/plain": [
       "0    0.0\n",
       "1    1.0\n",
       "2    1.0\n",
       "3    1.0\n",
       "4    0.0\n",
       "Name: Survived, dtype: float64"
      ]
     },
     "execution_count": 38,
     "metadata": {},
     "output_type": "execute_result"
    }
   ],
   "source": [
    "y.head()"
   ]
  },
  {
   "cell_type": "markdown",
   "id": "7cc067ae",
   "metadata": {
    "papermill": {
     "duration": 0.018414,
     "end_time": "2023-08-07T17:13:18.696048",
     "exception": false,
     "start_time": "2023-08-07T17:13:18.677634",
     "status": "completed"
    },
    "tags": []
   },
   "source": [
    "## model training"
   ]
  },
  {
   "cell_type": "code",
   "execution_count": 39,
   "id": "446bf40d",
   "metadata": {
    "execution": {
     "iopub.execute_input": "2023-08-07T17:13:18.735157Z",
     "iopub.status.busy": "2023-08-07T17:13:18.734729Z",
     "iopub.status.idle": "2023-08-07T17:13:18.883114Z",
     "shell.execute_reply": "2023-08-07T17:13:18.881851Z"
    },
    "papermill": {
     "duration": 0.171026,
     "end_time": "2023-08-07T17:13:18.885652",
     "exception": false,
     "start_time": "2023-08-07T17:13:18.714626",
     "status": "completed"
    },
    "tags": []
   },
   "outputs": [],
   "source": [
    "from sklearn.model_selection import train_test_split,cross_val_score\n",
    "#classify funtion which is defined by us to cheack the accuracy\n",
    "def classify(model):\n",
    "    x_train,x_test,y_train,y_test=train_test_split(x,y,test_size=0.25,random_state=42)\n",
    "    model.fit(x_train,y_train)\n",
    "    print(\"Accuracy: \",model.score(x_test,y_test))    \n",
    "    print(cross_val_score(model,x,y,cv=5))\n",
    "    print(\"Cross validation score is:\",np.mean(cross_val_score(model,x,y,cv=5)))"
   ]
  },
  {
   "cell_type": "code",
   "execution_count": 40,
   "id": "0a29a786",
   "metadata": {
    "execution": {
     "iopub.execute_input": "2023-08-07T17:13:18.925114Z",
     "iopub.status.busy": "2023-08-07T17:13:18.924678Z",
     "iopub.status.idle": "2023-08-07T17:13:19.252807Z",
     "shell.execute_reply": "2023-08-07T17:13:19.250849Z"
    },
    "papermill": {
     "duration": 0.350522,
     "end_time": "2023-08-07T17:13:19.255044",
     "exception": false,
     "start_time": "2023-08-07T17:13:18.904522",
     "status": "completed"
    },
    "tags": []
   },
   "outputs": [
    {
     "name": "stdout",
     "output_type": "stream",
     "text": [
      "Accuracy:  0.8071748878923767\n",
      "[0.77653631 0.78089888 0.76966292 0.76966292 0.82022472]\n",
      "Cross validation score is: 0.7833971502102819\n"
     ]
    }
   ],
   "source": [
    "from sklearn.linear_model import LogisticRegression\n",
    "model=LogisticRegression()\n",
    "classify(model)"
   ]
  },
  {
   "cell_type": "code",
   "execution_count": 41,
   "id": "62aac468",
   "metadata": {
    "execution": {
     "iopub.execute_input": "2023-08-07T17:13:19.296709Z",
     "iopub.status.busy": "2023-08-07T17:13:19.296261Z",
     "iopub.status.idle": "2023-08-07T17:13:19.571765Z",
     "shell.execute_reply": "2023-08-07T17:13:19.571067Z"
    },
    "papermill": {
     "duration": 0.299406,
     "end_time": "2023-08-07T17:13:19.574506",
     "exception": false,
     "start_time": "2023-08-07T17:13:19.275100",
     "status": "completed"
    },
    "tags": []
   },
   "outputs": [
    {
     "name": "stdout",
     "output_type": "stream",
     "text": [
      "Accuracy:  0.7130044843049327\n",
      "[0.74301676 0.76404494 0.78651685 0.74157303 0.81460674]\n",
      "Cross validation score is: 0.7665997112547862\n"
     ]
    }
   ],
   "source": [
    "from sklearn.tree import DecisionTreeClassifier\n",
    "model=DecisionTreeClassifier()\n",
    "classify(model)"
   ]
  },
  {
   "cell_type": "code",
   "execution_count": 42,
   "id": "323f6c8c",
   "metadata": {
    "execution": {
     "iopub.execute_input": "2023-08-07T17:13:19.616409Z",
     "iopub.status.busy": "2023-08-07T17:13:19.615291Z",
     "iopub.status.idle": "2023-08-07T17:13:21.826579Z",
     "shell.execute_reply": "2023-08-07T17:13:21.825449Z"
    },
    "papermill": {
     "duration": 2.236578,
     "end_time": "2023-08-07T17:13:21.830776",
     "exception": false,
     "start_time": "2023-08-07T17:13:19.594198",
     "status": "completed"
    },
    "tags": []
   },
   "outputs": [
    {
     "name": "stdout",
     "output_type": "stream",
     "text": [
      "Accuracy:  0.8026905829596412\n",
      "[0.7877095  0.79775281 0.85393258 0.7752809  0.8258427 ]\n",
      "Cross validation score is: 0.817079907099366\n"
     ]
    }
   ],
   "source": [
    "from sklearn.ensemble import RandomForestClassifier\n",
    "model=RandomForestClassifier()\n",
    "classify(model)"
   ]
  },
  {
   "cell_type": "code",
   "execution_count": 43,
   "id": "e48559f2",
   "metadata": {
    "execution": {
     "iopub.execute_input": "2023-08-07T17:13:21.880356Z",
     "iopub.status.busy": "2023-08-07T17:13:21.879944Z",
     "iopub.status.idle": "2023-08-07T17:13:23.664039Z",
     "shell.execute_reply": "2023-08-07T17:13:23.662242Z"
    },
    "papermill": {
     "duration": 1.808001,
     "end_time": "2023-08-07T17:13:23.666236",
     "exception": false,
     "start_time": "2023-08-07T17:13:21.858235",
     "status": "completed"
    },
    "tags": []
   },
   "outputs": [
    {
     "name": "stdout",
     "output_type": "stream",
     "text": [
      "Accuracy:  0.7757847533632287\n",
      "[0.75977654 0.76404494 0.83707865 0.7752809  0.8258427 ]\n",
      "Cross validation score is: 0.7991337643587972\n"
     ]
    }
   ],
   "source": [
    "from sklearn.ensemble import ExtraTreesClassifier\n",
    "model=ExtraTreesClassifier()\n",
    "classify(model)"
   ]
  },
  {
   "cell_type": "code",
   "execution_count": 44,
   "id": "5eabae18",
   "metadata": {
    "execution": {
     "iopub.execute_input": "2023-08-07T17:13:23.706672Z",
     "iopub.status.busy": "2023-08-07T17:13:23.706275Z",
     "iopub.status.idle": "2023-08-07T17:13:24.856906Z",
     "shell.execute_reply": "2023-08-07T17:13:24.856280Z"
    },
    "papermill": {
     "duration": 1.17316,
     "end_time": "2023-08-07T17:13:24.858724",
     "exception": false,
     "start_time": "2023-08-07T17:13:23.685564",
     "status": "completed"
    },
    "tags": []
   },
   "outputs": [
    {
     "name": "stdout",
     "output_type": "stream",
     "text": [
      "Accuracy:  0.7892376681614349\n",
      "[0.7877095  0.81460674 0.84269663 0.78651685 0.83146067]\n",
      "Cross validation score is: 0.8125980792166217\n"
     ]
    }
   ],
   "source": [
    "from xgboost import XGBClassifier\n",
    "model=XGBClassifier()\n",
    "classify(model)"
   ]
  },
  {
   "cell_type": "code",
   "execution_count": 45,
   "id": "2264691e",
   "metadata": {
    "execution": {
     "iopub.execute_input": "2023-08-07T17:13:24.900240Z",
     "iopub.status.busy": "2023-08-07T17:13:24.899816Z",
     "iopub.status.idle": "2023-08-07T17:13:35.715289Z",
     "shell.execute_reply": "2023-08-07T17:13:35.713436Z"
    },
    "papermill": {
     "duration": 10.838957,
     "end_time": "2023-08-07T17:13:35.717641",
     "exception": false,
     "start_time": "2023-08-07T17:13:24.878684",
     "status": "completed"
    },
    "tags": []
   },
   "outputs": [
    {
     "name": "stdout",
     "output_type": "stream",
     "text": [
      "Accuracy:  0.8116591928251121\n",
      "[0.79329609 0.81460674 0.86516854 0.79775281 0.84831461]\n",
      "Cross validation score is: 0.8238277572029377\n"
     ]
    }
   ],
   "source": [
    "from lightgbm import LGBMClassifier\n",
    "model= LGBMClassifier()\n",
    "classify(model)"
   ]
  },
  {
   "cell_type": "code",
   "execution_count": 46,
   "id": "03071fb7",
   "metadata": {
    "execution": {
     "iopub.execute_input": "2023-08-07T17:13:35.759267Z",
     "iopub.status.busy": "2023-08-07T17:13:35.758868Z",
     "iopub.status.idle": "2023-08-07T17:13:46.527756Z",
     "shell.execute_reply": "2023-08-07T17:13:46.526902Z"
    },
    "papermill": {
     "duration": 10.791358,
     "end_time": "2023-08-07T17:13:46.529446",
     "exception": false,
     "start_time": "2023-08-07T17:13:35.738088",
     "status": "completed"
    },
    "tags": []
   },
   "outputs": [
    {
     "name": "stdout",
     "output_type": "stream",
     "text": [
      "Accuracy:  0.8295964125560538\n",
      "[0.81564246 0.79775281 0.84831461 0.79775281 0.85393258]\n",
      "Cross validation score is: 0.8226790534178645\n"
     ]
    }
   ],
   "source": [
    "from catboost import CatBoostClassifier\n",
    "model= CatBoostClassifier(verbose=0)\n",
    "classify(model)"
   ]
  },
  {
   "cell_type": "markdown",
   "id": "b035175a",
   "metadata": {
    "papermill": {
     "duration": 0.020934,
     "end_time": "2023-08-07T17:13:46.570969",
     "exception": false,
     "start_time": "2023-08-07T17:13:46.550035",
     "status": "completed"
    },
    "tags": []
   },
   "source": [
    "## **COMPLETE MODEL TRAINING WITH FULL DATA**"
   ]
  },
  {
   "cell_type": "code",
   "execution_count": 47,
   "id": "d1831adb",
   "metadata": {
    "execution": {
     "iopub.execute_input": "2023-08-07T17:13:46.614738Z",
     "iopub.status.busy": "2023-08-07T17:13:46.613722Z",
     "iopub.status.idle": "2023-08-07T17:13:47.560857Z",
     "shell.execute_reply": "2023-08-07T17:13:47.559405Z"
    },
    "papermill": {
     "duration": 0.971357,
     "end_time": "2023-08-07T17:13:47.563214",
     "exception": false,
     "start_time": "2023-08-07T17:13:46.591857",
     "status": "completed"
    },
    "tags": []
   },
   "outputs": [
    {
     "data": {
      "text/html": [
       "<style>#sk-container-id-1 {color: black;background-color: white;}#sk-container-id-1 pre{padding: 0;}#sk-container-id-1 div.sk-toggleable {background-color: white;}#sk-container-id-1 label.sk-toggleable__label {cursor: pointer;display: block;width: 100%;margin-bottom: 0;padding: 0.3em;box-sizing: border-box;text-align: center;}#sk-container-id-1 label.sk-toggleable__label-arrow:before {content: \"▸\";float: left;margin-right: 0.25em;color: #696969;}#sk-container-id-1 label.sk-toggleable__label-arrow:hover:before {color: black;}#sk-container-id-1 div.sk-estimator:hover label.sk-toggleable__label-arrow:before {color: black;}#sk-container-id-1 div.sk-toggleable__content {max-height: 0;max-width: 0;overflow: hidden;text-align: left;background-color: #f0f8ff;}#sk-container-id-1 div.sk-toggleable__content pre {margin: 0.2em;color: black;border-radius: 0.25em;background-color: #f0f8ff;}#sk-container-id-1 input.sk-toggleable__control:checked~div.sk-toggleable__content {max-height: 200px;max-width: 100%;overflow: auto;}#sk-container-id-1 input.sk-toggleable__control:checked~label.sk-toggleable__label-arrow:before {content: \"▾\";}#sk-container-id-1 div.sk-estimator input.sk-toggleable__control:checked~label.sk-toggleable__label {background-color: #d4ebff;}#sk-container-id-1 div.sk-label input.sk-toggleable__control:checked~label.sk-toggleable__label {background-color: #d4ebff;}#sk-container-id-1 input.sk-hidden--visually {border: 0;clip: rect(1px 1px 1px 1px);clip: rect(1px, 1px, 1px, 1px);height: 1px;margin: -1px;overflow: hidden;padding: 0;position: absolute;width: 1px;}#sk-container-id-1 div.sk-estimator {font-family: monospace;background-color: #f0f8ff;border: 1px dotted black;border-radius: 0.25em;box-sizing: border-box;margin-bottom: 0.5em;}#sk-container-id-1 div.sk-estimator:hover {background-color: #d4ebff;}#sk-container-id-1 div.sk-parallel-item::after {content: \"\";width: 100%;border-bottom: 1px solid gray;flex-grow: 1;}#sk-container-id-1 div.sk-label:hover label.sk-toggleable__label {background-color: #d4ebff;}#sk-container-id-1 div.sk-serial::before {content: \"\";position: absolute;border-left: 1px solid gray;box-sizing: border-box;top: 0;bottom: 0;left: 50%;z-index: 0;}#sk-container-id-1 div.sk-serial {display: flex;flex-direction: column;align-items: center;background-color: white;padding-right: 0.2em;padding-left: 0.2em;position: relative;}#sk-container-id-1 div.sk-item {position: relative;z-index: 1;}#sk-container-id-1 div.sk-parallel {display: flex;align-items: stretch;justify-content: center;background-color: white;position: relative;}#sk-container-id-1 div.sk-item::before, #sk-container-id-1 div.sk-parallel-item::before {content: \"\";position: absolute;border-left: 1px solid gray;box-sizing: border-box;top: 0;bottom: 0;left: 50%;z-index: -1;}#sk-container-id-1 div.sk-parallel-item {display: flex;flex-direction: column;z-index: 1;position: relative;background-color: white;}#sk-container-id-1 div.sk-parallel-item:first-child::after {align-self: flex-end;width: 50%;}#sk-container-id-1 div.sk-parallel-item:last-child::after {align-self: flex-start;width: 50%;}#sk-container-id-1 div.sk-parallel-item:only-child::after {width: 0;}#sk-container-id-1 div.sk-dashed-wrapped {border: 1px dashed gray;margin: 0 0.4em 0.5em 0.4em;box-sizing: border-box;padding-bottom: 0.4em;background-color: white;}#sk-container-id-1 div.sk-label label {font-family: monospace;font-weight: bold;display: inline-block;line-height: 1.2em;}#sk-container-id-1 div.sk-label-container {text-align: center;}#sk-container-id-1 div.sk-container {/* jupyter's `normalize.less` sets `[hidden] { display: none; }` but bootstrap.min.css set `[hidden] { display: none !important; }` so we also need the `!important` here to be able to override the default hidden behavior on the sphinx rendered scikit-learn.org. See: https://github.com/scikit-learn/scikit-learn/issues/21755 */display: inline-block !important;position: relative;}#sk-container-id-1 div.sk-text-repr-fallback {display: none;}</style><div id=\"sk-container-id-1\" class=\"sk-top-container\"><div class=\"sk-text-repr-fallback\"><pre>LGBMClassifier()</pre><b>In a Jupyter environment, please rerun this cell to show the HTML representation or trust the notebook. <br />On GitHub, the HTML representation is unable to render, please try loading this page with nbviewer.org.</b></div><div class=\"sk-container\" hidden><div class=\"sk-item\"><div class=\"sk-estimator sk-toggleable\"><input class=\"sk-toggleable__control sk-hidden--visually\" id=\"sk-estimator-id-1\" type=\"checkbox\" checked><label for=\"sk-estimator-id-1\" class=\"sk-toggleable__label sk-toggleable__label-arrow\">LGBMClassifier</label><div class=\"sk-toggleable__content\"><pre>LGBMClassifier()</pre></div></div></div></div></div>"
      ],
      "text/plain": [
       "LGBMClassifier()"
      ]
     },
     "execution_count": 47,
     "metadata": {},
     "output_type": "execute_result"
    }
   ],
   "source": [
    "model= LGBMClassifier()\n",
    "model.fit(x,y)"
   ]
  },
  {
   "cell_type": "code",
   "execution_count": 48,
   "id": "45215724",
   "metadata": {
    "execution": {
     "iopub.execute_input": "2023-08-07T17:13:47.608362Z",
     "iopub.status.busy": "2023-08-07T17:13:47.607913Z",
     "iopub.status.idle": "2023-08-07T17:13:47.625193Z",
     "shell.execute_reply": "2023-08-07T17:13:47.623455Z"
    },
    "papermill": {
     "duration": 0.042637,
     "end_time": "2023-08-07T17:13:47.628274",
     "exception": false,
     "start_time": "2023-08-07T17:13:47.585637",
     "status": "completed"
    },
    "tags": []
   },
   "outputs": [
    {
     "data": {
      "text/html": [
       "<div>\n",
       "<style scoped>\n",
       "    .dataframe tbody tr th:only-of-type {\n",
       "        vertical-align: middle;\n",
       "    }\n",
       "\n",
       "    .dataframe tbody tr th {\n",
       "        vertical-align: top;\n",
       "    }\n",
       "\n",
       "    .dataframe thead th {\n",
       "        text-align: right;\n",
       "    }\n",
       "</style>\n",
       "<table border=\"1\" class=\"dataframe\">\n",
       "  <thead>\n",
       "    <tr style=\"text-align: right;\">\n",
       "      <th></th>\n",
       "      <th>PassengerId</th>\n",
       "      <th>Pclass</th>\n",
       "      <th>Name</th>\n",
       "      <th>Sex</th>\n",
       "      <th>Age</th>\n",
       "      <th>SibSp</th>\n",
       "      <th>Parch</th>\n",
       "      <th>Ticket</th>\n",
       "      <th>Fare</th>\n",
       "      <th>Cabin</th>\n",
       "      <th>Embarked</th>\n",
       "    </tr>\n",
       "  </thead>\n",
       "  <tbody>\n",
       "    <tr>\n",
       "      <th>0</th>\n",
       "      <td>892</td>\n",
       "      <td>3</td>\n",
       "      <td>Kelly, Mr. James</td>\n",
       "      <td>male</td>\n",
       "      <td>34.5</td>\n",
       "      <td>0</td>\n",
       "      <td>0</td>\n",
       "      <td>330911</td>\n",
       "      <td>7.8292</td>\n",
       "      <td>NaN</td>\n",
       "      <td>Q</td>\n",
       "    </tr>\n",
       "    <tr>\n",
       "      <th>1</th>\n",
       "      <td>893</td>\n",
       "      <td>3</td>\n",
       "      <td>Wilkes, Mrs. James (Ellen Needs)</td>\n",
       "      <td>female</td>\n",
       "      <td>47.0</td>\n",
       "      <td>1</td>\n",
       "      <td>0</td>\n",
       "      <td>363272</td>\n",
       "      <td>7.0000</td>\n",
       "      <td>NaN</td>\n",
       "      <td>S</td>\n",
       "    </tr>\n",
       "    <tr>\n",
       "      <th>2</th>\n",
       "      <td>894</td>\n",
       "      <td>2</td>\n",
       "      <td>Myles, Mr. Thomas Francis</td>\n",
       "      <td>male</td>\n",
       "      <td>62.0</td>\n",
       "      <td>0</td>\n",
       "      <td>0</td>\n",
       "      <td>240276</td>\n",
       "      <td>9.6875</td>\n",
       "      <td>NaN</td>\n",
       "      <td>Q</td>\n",
       "    </tr>\n",
       "    <tr>\n",
       "      <th>3</th>\n",
       "      <td>895</td>\n",
       "      <td>3</td>\n",
       "      <td>Wirz, Mr. Albert</td>\n",
       "      <td>male</td>\n",
       "      <td>27.0</td>\n",
       "      <td>0</td>\n",
       "      <td>0</td>\n",
       "      <td>315154</td>\n",
       "      <td>8.6625</td>\n",
       "      <td>NaN</td>\n",
       "      <td>S</td>\n",
       "    </tr>\n",
       "    <tr>\n",
       "      <th>4</th>\n",
       "      <td>896</td>\n",
       "      <td>3</td>\n",
       "      <td>Hirvonen, Mrs. Alexander (Helga E Lindqvist)</td>\n",
       "      <td>female</td>\n",
       "      <td>22.0</td>\n",
       "      <td>1</td>\n",
       "      <td>1</td>\n",
       "      <td>3101298</td>\n",
       "      <td>12.2875</td>\n",
       "      <td>NaN</td>\n",
       "      <td>S</td>\n",
       "    </tr>\n",
       "  </tbody>\n",
       "</table>\n",
       "</div>"
      ],
      "text/plain": [
       "   PassengerId  Pclass                                          Name     Sex  \\\n",
       "0          892       3                              Kelly, Mr. James    male   \n",
       "1          893       3              Wilkes, Mrs. James (Ellen Needs)  female   \n",
       "2          894       2                     Myles, Mr. Thomas Francis    male   \n",
       "3          895       3                              Wirz, Mr. Albert    male   \n",
       "4          896       3  Hirvonen, Mrs. Alexander (Helga E Lindqvist)  female   \n",
       "\n",
       "    Age  SibSp  Parch   Ticket     Fare Cabin Embarked  \n",
       "0  34.5      0      0   330911   7.8292   NaN        Q  \n",
       "1  47.0      1      0   363272   7.0000   NaN        S  \n",
       "2  62.0      0      0   240276   9.6875   NaN        Q  \n",
       "3  27.0      0      0   315154   8.6625   NaN        S  \n",
       "4  22.0      1      1  3101298  12.2875   NaN        S  "
      ]
     },
     "execution_count": 48,
     "metadata": {},
     "output_type": "execute_result"
    }
   ],
   "source": [
    "test.head()"
   ]
  },
  {
   "cell_type": "markdown",
   "id": "3de93c98",
   "metadata": {
    "papermill": {
     "duration": 0.020628,
     "end_time": "2023-08-07T17:13:47.670515",
     "exception": false,
     "start_time": "2023-08-07T17:13:47.649887",
     "status": "completed"
    },
    "tags": []
   },
   "source": [
    "## input df for test data"
   ]
  },
  {
   "cell_type": "code",
   "execution_count": 49,
   "id": "bbd0d699",
   "metadata": {
    "execution": {
     "iopub.execute_input": "2023-08-07T17:13:47.714417Z",
     "iopub.status.busy": "2023-08-07T17:13:47.713993Z",
     "iopub.status.idle": "2023-08-07T17:13:47.728912Z",
     "shell.execute_reply": "2023-08-07T17:13:47.727201Z"
    },
    "papermill": {
     "duration": 0.040219,
     "end_time": "2023-08-07T17:13:47.731769",
     "exception": false,
     "start_time": "2023-08-07T17:13:47.691550",
     "status": "completed"
    },
    "tags": []
   },
   "outputs": [
    {
     "data": {
      "text/html": [
       "<div>\n",
       "<style scoped>\n",
       "    .dataframe tbody tr th:only-of-type {\n",
       "        vertical-align: middle;\n",
       "    }\n",
       "\n",
       "    .dataframe tbody tr th {\n",
       "        vertical-align: top;\n",
       "    }\n",
       "\n",
       "    .dataframe thead th {\n",
       "        text-align: right;\n",
       "    }\n",
       "</style>\n",
       "<table border=\"1\" class=\"dataframe\">\n",
       "  <thead>\n",
       "    <tr style=\"text-align: right;\">\n",
       "      <th></th>\n",
       "      <th>Pclass</th>\n",
       "      <th>Sex</th>\n",
       "      <th>Age</th>\n",
       "      <th>SibSp</th>\n",
       "      <th>Parch</th>\n",
       "      <th>Fare</th>\n",
       "      <th>Embarked</th>\n",
       "    </tr>\n",
       "  </thead>\n",
       "  <tbody>\n",
       "    <tr>\n",
       "      <th>891</th>\n",
       "      <td>3</td>\n",
       "      <td>1</td>\n",
       "      <td>34.5</td>\n",
       "      <td>0</td>\n",
       "      <td>0</td>\n",
       "      <td>2.178064</td>\n",
       "      <td>1</td>\n",
       "    </tr>\n",
       "    <tr>\n",
       "      <th>892</th>\n",
       "      <td>3</td>\n",
       "      <td>0</td>\n",
       "      <td>47.0</td>\n",
       "      <td>1</td>\n",
       "      <td>0</td>\n",
       "      <td>2.079442</td>\n",
       "      <td>2</td>\n",
       "    </tr>\n",
       "    <tr>\n",
       "      <th>893</th>\n",
       "      <td>2</td>\n",
       "      <td>1</td>\n",
       "      <td>62.0</td>\n",
       "      <td>0</td>\n",
       "      <td>0</td>\n",
       "      <td>2.369075</td>\n",
       "      <td>1</td>\n",
       "    </tr>\n",
       "    <tr>\n",
       "      <th>894</th>\n",
       "      <td>3</td>\n",
       "      <td>1</td>\n",
       "      <td>27.0</td>\n",
       "      <td>0</td>\n",
       "      <td>0</td>\n",
       "      <td>2.268252</td>\n",
       "      <td>2</td>\n",
       "    </tr>\n",
       "    <tr>\n",
       "      <th>895</th>\n",
       "      <td>3</td>\n",
       "      <td>0</td>\n",
       "      <td>22.0</td>\n",
       "      <td>1</td>\n",
       "      <td>1</td>\n",
       "      <td>2.586824</td>\n",
       "      <td>2</td>\n",
       "    </tr>\n",
       "  </tbody>\n",
       "</table>\n",
       "</div>"
      ],
      "text/plain": [
       "     Pclass  Sex   Age  SibSp  Parch      Fare  Embarked\n",
       "891       3    1  34.5      0      0  2.178064         1\n",
       "892       3    0  47.0      1      0  2.079442         2\n",
       "893       2    1  62.0      0      0  2.369075         1\n",
       "894       3    1  27.0      0      0  2.268252         2\n",
       "895       3    0  22.0      1      1  2.586824         2"
      ]
     },
     "execution_count": 49,
     "metadata": {},
     "output_type": "execute_result"
    }
   ],
   "source": [
    "x_test=testdat.drop(columns=['PassengerId','Survived'],axis=1)\n",
    "x_test.head()"
   ]
  },
  {
   "cell_type": "code",
   "execution_count": 50,
   "id": "adfbae46",
   "metadata": {
    "execution": {
     "iopub.execute_input": "2023-08-07T17:13:47.775342Z",
     "iopub.status.busy": "2023-08-07T17:13:47.774966Z",
     "iopub.status.idle": "2023-08-07T17:13:47.789221Z",
     "shell.execute_reply": "2023-08-07T17:13:47.788254Z"
    },
    "papermill": {
     "duration": 0.038778,
     "end_time": "2023-08-07T17:13:47.791546",
     "exception": false,
     "start_time": "2023-08-07T17:13:47.752768",
     "status": "completed"
    },
    "tags": []
   },
   "outputs": [
    {
     "data": {
      "text/plain": [
       "array([0., 0., 0., 1., 0., 0., 0., 0., 1., 0., 0., 0., 1., 0., 1., 1., 0.,\n",
       "       1., 1., 1., 0., 0., 1., 1., 1., 0., 1., 1., 1., 0., 0., 0., 0., 0.,\n",
       "       1., 0., 0., 0., 0., 1., 0., 1., 0., 1., 1., 0., 0., 0., 1., 1., 1.,\n",
       "       0., 1., 1., 0., 0., 0., 0., 0., 1., 0., 0., 0., 1., 1., 1., 1., 0.,\n",
       "       0., 1., 1., 0., 0., 0., 1., 1., 0., 1., 0., 1., 1., 0., 0., 0., 0.,\n",
       "       0., 1., 1., 1., 1., 0., 0., 1., 0., 1., 0., 1., 0., 0., 0., 1., 0.,\n",
       "       0., 0., 1., 0., 0., 0., 0., 0., 0., 1., 1., 1., 1., 0., 0., 1., 1.,\n",
       "       1., 1., 0., 1., 0., 0., 1., 0., 1., 0., 0., 0., 0., 0., 0., 0., 0.,\n",
       "       0., 0., 0., 0., 0., 1., 0., 0., 1., 0., 0., 0., 1., 0., 1., 0., 0.,\n",
       "       0., 0., 0., 1., 0., 1., 1., 1., 1., 1., 0., 0., 0., 0., 0., 1., 0.,\n",
       "       0., 1., 0., 0., 0., 1., 1., 0., 1., 1., 0., 0., 1., 0., 1., 0., 1.,\n",
       "       0., 0., 0., 0., 0., 0., 0., 1., 0., 1., 0., 0., 0., 1., 1., 0., 1.,\n",
       "       0., 0., 0., 0., 1., 0., 0., 0., 0., 1., 0., 0., 1., 0., 1., 0., 1.,\n",
       "       0., 1., 0., 1., 0., 0., 1., 0., 0., 0., 1., 0., 0., 1., 0., 0., 1.,\n",
       "       1., 1., 1., 1., 0., 0., 0., 0., 1., 0., 1., 0., 1., 0., 0., 0., 0.,\n",
       "       0., 0., 0., 1., 0., 0., 0., 1., 1., 0., 0., 0., 0., 0., 0., 0., 0.,\n",
       "       1., 1., 0., 1., 0., 0., 0., 0., 0., 1., 1., 0., 1., 0., 0., 0., 0.,\n",
       "       0., 0., 0., 0., 0., 0., 0., 1., 0., 0., 0., 0., 0., 0., 0., 1., 1.,\n",
       "       0., 1., 0., 0., 0., 1., 0., 0., 1., 1., 0., 0., 0., 0., 0., 0., 0.,\n",
       "       1., 1., 0., 1., 0., 0., 0., 1., 0., 0., 1., 0., 0., 1., 0., 0., 0.,\n",
       "       0., 0., 0., 1., 0., 1., 0., 1., 0., 1., 1., 0., 0., 0., 1., 0., 1.,\n",
       "       0., 0., 1., 0., 1., 1., 1., 1., 0., 0., 0., 1., 0., 0., 1., 0., 0.,\n",
       "       1., 1., 0., 0., 0., 1., 0., 0., 0., 1., 0., 1., 0., 0., 0., 0., 0.,\n",
       "       1., 0., 0., 0., 1., 0., 1., 0., 0., 1., 0., 1., 0., 0., 0., 0., 0.,\n",
       "       1., 1., 1., 1., 0., 0., 1., 0., 0., 1.])"
      ]
     },
     "execution_count": 50,
     "metadata": {},
     "output_type": "execute_result"
    }
   ],
   "source": [
    "predictionsres=model.predict(x_test)\n",
    "predictionsres"
   ]
  },
  {
   "cell_type": "markdown",
   "id": "67991657",
   "metadata": {
    "papermill": {
     "duration": 0.021128,
     "end_time": "2023-08-07T17:13:47.834029",
     "exception": false,
     "start_time": "2023-08-07T17:13:47.812901",
     "status": "completed"
    },
    "tags": []
   },
   "source": [
    "## **Test Submission**"
   ]
  },
  {
   "cell_type": "code",
   "execution_count": 51,
   "id": "8212c93b",
   "metadata": {
    "execution": {
     "iopub.execute_input": "2023-08-07T17:13:47.879822Z",
     "iopub.status.busy": "2023-08-07T17:13:47.879413Z",
     "iopub.status.idle": "2023-08-07T17:13:47.894452Z",
     "shell.execute_reply": "2023-08-07T17:13:47.893210Z"
    },
    "papermill": {
     "duration": 0.040213,
     "end_time": "2023-08-07T17:13:47.897303",
     "exception": false,
     "start_time": "2023-08-07T17:13:47.857090",
     "status": "completed"
    },
    "tags": []
   },
   "outputs": [
    {
     "data": {
      "text/html": [
       "<div>\n",
       "<style scoped>\n",
       "    .dataframe tbody tr th:only-of-type {\n",
       "        vertical-align: middle;\n",
       "    }\n",
       "\n",
       "    .dataframe tbody tr th {\n",
       "        vertical-align: top;\n",
       "    }\n",
       "\n",
       "    .dataframe thead th {\n",
       "        text-align: right;\n",
       "    }\n",
       "</style>\n",
       "<table border=\"1\" class=\"dataframe\">\n",
       "  <thead>\n",
       "    <tr style=\"text-align: right;\">\n",
       "      <th></th>\n",
       "      <th>PassengerId</th>\n",
       "      <th>Survived</th>\n",
       "    </tr>\n",
       "  </thead>\n",
       "  <tbody>\n",
       "    <tr>\n",
       "      <th>0</th>\n",
       "      <td>892</td>\n",
       "      <td>0</td>\n",
       "    </tr>\n",
       "    <tr>\n",
       "      <th>1</th>\n",
       "      <td>893</td>\n",
       "      <td>1</td>\n",
       "    </tr>\n",
       "    <tr>\n",
       "      <th>2</th>\n",
       "      <td>894</td>\n",
       "      <td>0</td>\n",
       "    </tr>\n",
       "    <tr>\n",
       "      <th>3</th>\n",
       "      <td>895</td>\n",
       "      <td>0</td>\n",
       "    </tr>\n",
       "    <tr>\n",
       "      <th>4</th>\n",
       "      <td>896</td>\n",
       "      <td>1</td>\n",
       "    </tr>\n",
       "  </tbody>\n",
       "</table>\n",
       "</div>"
      ],
      "text/plain": [
       "   PassengerId  Survived\n",
       "0          892         0\n",
       "1          893         1\n",
       "2          894         0\n",
       "3          895         0\n",
       "4          896         1"
      ]
     },
     "execution_count": 51,
     "metadata": {},
     "output_type": "execute_result"
    }
   ],
   "source": [
    "Submit=pd.read_csv('/kaggle/input/titanic/gender_submission.csv')\n",
    "Submit.head()"
   ]
  },
  {
   "cell_type": "code",
   "execution_count": 52,
   "id": "7f8d2edc",
   "metadata": {
    "execution": {
     "iopub.execute_input": "2023-08-07T17:13:47.942329Z",
     "iopub.status.busy": "2023-08-07T17:13:47.941915Z",
     "iopub.status.idle": "2023-08-07T17:13:47.956642Z",
     "shell.execute_reply": "2023-08-07T17:13:47.955444Z"
    },
    "papermill": {
     "duration": 0.040239,
     "end_time": "2023-08-07T17:13:47.959058",
     "exception": false,
     "start_time": "2023-08-07T17:13:47.918819",
     "status": "completed"
    },
    "tags": []
   },
   "outputs": [
    {
     "data": {
      "text/html": [
       "<div>\n",
       "<style scoped>\n",
       "    .dataframe tbody tr th:only-of-type {\n",
       "        vertical-align: middle;\n",
       "    }\n",
       "\n",
       "    .dataframe tbody tr th {\n",
       "        vertical-align: top;\n",
       "    }\n",
       "\n",
       "    .dataframe thead th {\n",
       "        text-align: right;\n",
       "    }\n",
       "</style>\n",
       "<table border=\"1\" class=\"dataframe\">\n",
       "  <thead>\n",
       "    <tr style=\"text-align: right;\">\n",
       "      <th></th>\n",
       "      <th>PassengerId</th>\n",
       "      <th>Survived</th>\n",
       "    </tr>\n",
       "  </thead>\n",
       "  <tbody>\n",
       "    <tr>\n",
       "      <th>0</th>\n",
       "      <td>892</td>\n",
       "      <td>0.0</td>\n",
       "    </tr>\n",
       "    <tr>\n",
       "      <th>1</th>\n",
       "      <td>893</td>\n",
       "      <td>0.0</td>\n",
       "    </tr>\n",
       "    <tr>\n",
       "      <th>2</th>\n",
       "      <td>894</td>\n",
       "      <td>0.0</td>\n",
       "    </tr>\n",
       "    <tr>\n",
       "      <th>3</th>\n",
       "      <td>895</td>\n",
       "      <td>1.0</td>\n",
       "    </tr>\n",
       "    <tr>\n",
       "      <th>4</th>\n",
       "      <td>896</td>\n",
       "      <td>0.0</td>\n",
       "    </tr>\n",
       "  </tbody>\n",
       "</table>\n",
       "</div>"
      ],
      "text/plain": [
       "   PassengerId  Survived\n",
       "0          892       0.0\n",
       "1          893       0.0\n",
       "2          894       0.0\n",
       "3          895       1.0\n",
       "4          896       0.0"
      ]
     },
     "execution_count": 52,
     "metadata": {},
     "output_type": "execute_result"
    }
   ],
   "source": [
    "Submit['Survived']=predictionsres\n",
    "Submit.head()"
   ]
  },
  {
   "cell_type": "code",
   "execution_count": 53,
   "id": "bef7b6a5",
   "metadata": {
    "execution": {
     "iopub.execute_input": "2023-08-07T17:13:48.003509Z",
     "iopub.status.busy": "2023-08-07T17:13:48.003132Z",
     "iopub.status.idle": "2023-08-07T17:13:48.012809Z",
     "shell.execute_reply": "2023-08-07T17:13:48.011448Z"
    },
    "papermill": {
     "duration": 0.034838,
     "end_time": "2023-08-07T17:13:48.015404",
     "exception": false,
     "start_time": "2023-08-07T17:13:47.980566",
     "status": "completed"
    },
    "tags": []
   },
   "outputs": [],
   "source": [
    "Submit.to_csv('Submission.csv',index=False)"
   ]
  }
 ],
 "metadata": {
  "kernelspec": {
   "display_name": "Python 3",
   "language": "python",
   "name": "python3"
  },
  "language_info": {
   "codemirror_mode": {
    "name": "ipython",
    "version": 3
   },
   "file_extension": ".py",
   "mimetype": "text/x-python",
   "name": "python",
   "nbconvert_exporter": "python",
   "pygments_lexer": "ipython3",
   "version": "3.10.12"
  },
  "papermill": {
   "default_parameters": {},
   "duration": 48.533068,
   "end_time": "2023-08-07T17:13:50.586846",
   "environment_variables": {},
   "exception": null,
   "input_path": "__notebook__.ipynb",
   "output_path": "__notebook__.ipynb",
   "parameters": {},
   "start_time": "2023-08-07T17:13:02.053778",
   "version": "2.4.0"
  }
 },
 "nbformat": 4,
 "nbformat_minor": 5
}
